{
 "cells": [
  {
   "cell_type": "code",
   "execution_count": 5,
   "metadata": {},
   "outputs": [
    {
     "name": "stdout",
     "output_type": "stream",
     "text": [
      "공부시간=2, 실제점수=81, 예측점수=82\n",
      "공부시간=4, 실제점수=93, 예측점수=88\n",
      "공부시간=6, 실제점수=91, 예측점수=94\n",
      "공부시간=8, 실제점수=97, 예측점수=100\n",
      "MSE 최종값: 11.0\n",
      "RMSE 값 : 3.3166247903554\n",
      "RMSE 최종값 : 11.180339887498949\n"
     ]
    }
   ],
   "source": [
    "#오차를 줄이기 위해 사용 / 오차평가알고리즘\n",
    "#평균 제곱 오차 = 오차의 합 / N\n",
    "#(P-y)**2 --> 이렇게 하면 너무 오차가 크니 루트를 씌워준것이 평균 제곱근 오차\n",
    "#-*- coding: utf-8 -*-\n",
    "\n",
    "import numpy as np\n",
    "\n",
    "#가상의 기울기 a와 y 절편 b\n",
    "fake_a_b=[3,76]\n",
    "\n",
    "# x 값과 y값\n",
    "data = [[2, 81], [4, 93], [6, 91], [8, 97]]\n",
    "x = [i[0] for i in data] # 2,4,6,8 대입\n",
    "y = [i[1] for i in data] # 81,93,91,97 대입\n",
    "\n",
    "# y=ax + b에 a,b 값 대입하여 결과를 출력하는 함수\n",
    "def predict(x):\n",
    "   return fake_a_b[0]*x + fake_a_b[1]\n",
    "# y = ax + b, 즉 x 대입 시 y 값 리턴\n",
    "\n",
    "# MSE 함수\n",
    "def mse(y_hat, y):\n",
    "   return ((y_hat - y) ** 2).mean() # p-y의 제곱 / n\n",
    "\n",
    "# MSE 함수를 각 y값에 대입하여 최종 값을 구하는 함수\n",
    "def mse_val(predict_result,y):\n",
    "   return mse(np.array(predict_result), np.array(y))\n",
    "\n",
    "# rmse 함수 만들기\n",
    "def rmse(p,a):# \n",
    "    return np.sqrt(((p-a)**2).mean())\n",
    "\n",
    "def rmse_val(predict_result,y):\n",
    "    return rmse(np.array(predict(x[i])),np.array(y))\n",
    "\n",
    "# 예측값이 들어갈 빈 리스트\n",
    "predict_result = []\n",
    "\n",
    "\n",
    "# 모든 x값을 한 번씩 대입하여 predict_result 리스트완성.\n",
    "for i in range(len(x)):\n",
    "   predict_result.append(predict(x[i]))\n",
    "   print(\"공부시간=%.f, 실제점수=%.f, 예측점수=%.f\" % (x[i], y[i], predict(x[i])))\n",
    "\n",
    "# 최종 MSE 출력\n",
    "print(\"MSE 최종값: \" + str(mse_val(predict_result,y))) # 평균 제곱 오차\n",
    "print(\"RMSE 값 : \" + str(mse_val(predict_result,y)**0.5))# 평균 제곱근 오차 = MES에 루트 씌운것!\n",
    "print(\"RMSE 최종값 : \" + str(rmse_val(predict_result,y)))# 평균 제곱근 오차 = MES에 루트 씌운것!\n"
   ]
  },
  {
   "cell_type": "code",
   "execution_count": null,
   "metadata": {},
   "outputs": [],
   "source": []
  }
 ],
 "metadata": {
  "kernelspec": {
   "display_name": "Python 3",
   "language": "python",
   "name": "python3"
  },
  "language_info": {
   "codemirror_mode": {
    "name": "ipython",
    "version": 3
   },
   "file_extension": ".py",
   "mimetype": "text/x-python",
   "name": "python",
   "nbconvert_exporter": "python",
   "pygments_lexer": "ipython3",
   "version": "3.7.6"
  }
 },
 "nbformat": 4,
 "nbformat_minor": 2
}
