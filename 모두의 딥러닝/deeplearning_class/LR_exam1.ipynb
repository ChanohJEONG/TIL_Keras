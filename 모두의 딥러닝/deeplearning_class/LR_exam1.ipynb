{
 "cells": [
  {
   "cell_type": "markdown",
   "metadata": {},
   "source": [
    "### 선형회귀 연습"
   ]
  },
  {
   "cell_type": "code",
   "execution_count": 1,
   "metadata": {},
   "outputs": [],
   "source": [
    "import numpy as np\n",
    "import pandas as pd\n",
    "import matplotlib.pyplot as plt"
   ]
  },
  {
   "cell_type": "code",
   "execution_count": 2,
   "metadata": {},
   "outputs": [],
   "source": [
    "#공부시간 X와 성적 Y의 리스트를 만듭니다.데이터 셋 바꿔서 시도\n",
    "data = [[18, 76.1], [19, 77], [20, 78.1], [21, 78.2],[22,78.8],[23,79.7],[24,79.9],[25,81.1],[26,81.2],[27,81.8],[28,82.8],[29,83.5]]\n",
    "df = pd.read_csv('ex1.csv')\n",
    "x = df.나이.tolist()\n",
    "y = df.평균키.tolist()\n",
    "# x = [i[0] for i in data]\n",
    "# y = [i[1] for i in data]"
   ]
  },
  {
   "cell_type": "code",
   "execution_count": 3,
   "metadata": {},
   "outputs": [
    {
     "data": {
      "image/png": "[encoded data removed]",
      "text/plain": [
       "<Figure size 576x216 with 1 Axes>"
      ]
     },
     "metadata": {
      "needs_background": "light"
     },
     "output_type": "display_data"
    }
   ],
   "source": [
    "# 그래프 그리기\n",
    "plt.figure(figsize=(8,3))# 넓이,높이\n",
    "plt.scatter(x,y)#산점도\n",
    "plt.show()"
   ]
  },
  {
   "cell_type": "code",
   "execution_count": 4,
   "metadata": {},
   "outputs": [],
   "source": [
    "#리스트로 되어있는 x와y의 넘파이 배열로 바꾸어 줍니다.\n",
    "x_data = np.array(x) # 기본적으로 파이썬은 리스트 --> 객체, np.array --> 배열,같은타입, 메모리\n",
    "y_data = np.array(y)"
   ]
  },
  {
   "cell_type": "code",
   "execution_count": 5,
   "metadata": {},
   "outputs": [],
   "source": [
    "#기울기 a 와 절편 b의 값을 초기화 하자\n",
    "a = 0\n",
    "b = 0"
   ]
  },
  {
   "cell_type": "code",
   "execution_count": 6,
   "metadata": {},
   "outputs": [],
   "source": [
    "#학습률\n",
    "#한번 학습할 때 얼만큼 이동할 것인가? #kera -> Adm\n",
    "lr = 0.001\n",
    "epoch=2001"
   ]
  },
  {
   "cell_type": "code",
   "execution_count": 7,
   "metadata": {},
   "outputs": [
    {
     "name": "stdout",
     "output_type": "stream",
     "text": [
      "epoch=0, 기울기=1.8840, 절편=0.0798\n",
      "epoch=100, 기울기=3.3281, 절편=0.2767\n",
      "epoch=200, 기울기=3.3224, 절편=0.4129\n",
      "epoch=300, 기울기=3.3168, 절편=0.5488\n",
      "epoch=400, 기울기=3.3111, 절편=0.6844\n",
      "epoch=500, 기울기=3.3055, 절편=0.8197\n",
      "epoch=600, 기울기=3.2998, 절편=0.9548\n",
      "epoch=700, 기울기=3.2942, 절편=1.0895\n",
      "epoch=800, 기울기=3.2886, 절편=1.2240\n",
      "epoch=900, 기울기=3.2830, 절편=1.3582\n",
      "epoch=1000, 기울기=3.2775, 절편=1.4921\n",
      "epoch=1100, 기울기=3.2719, 절편=1.6257\n",
      "epoch=1200, 기울기=3.2663, 절편=1.7590\n",
      "epoch=1300, 기울기=3.2608, 절편=1.8921\n",
      "epoch=1400, 기울기=3.2553, 절편=2.0249\n",
      "epoch=1500, 기울기=3.2497, 절편=2.1574\n",
      "epoch=1600, 기울기=3.2442, 절편=2.2896\n",
      "epoch=1700, 기울기=3.2387, 절편=2.4215\n",
      "epoch=1800, 기울기=3.2333, 절편=2.5532\n",
      "epoch=1900, 기울기=3.2278, 절편=2.6846\n",
      "epoch=2000, 기울기=3.2223, 절편=2.8157\n"
     ]
    }
   ],
   "source": [
    "# 경사 하강법을 시작합시다.\n",
    "for i in range(epoch):\n",
    "    y_hat = a * x_data + b # y_hat = ax + b\n",
    "    error = y_data - y_hat # 오차! 실제값 - 예측값\n",
    "    a_diff = -(1/len(x_data))*sum(x_data * (error))# 오차함수를 a로 미분한 값, a=가중치,기울기\n",
    "    b_diff = -(1/len(x_data))*sum(error) #오차함수를 b로 미분한 값\n",
    "#     print(a_diff)\n",
    "#     print(b_diff)\n",
    "    a = a - (lr * a_diff) # 학습률을 곱해 기존의 a 값을 업데이트함\n",
    "    b = b - (lr * b_diff) # 학습률을 곱해 기존의 b 값을 업데이트함\n",
    "    if i % 100 ==0:\n",
    "        print(\"epoch=%.f, 기울기=%.04f, 절편=%.04f\"%(i,a,b))"
   ]
  }
 ],
 "metadata": {
  "kernelspec": {
   "display_name": "Python 3",
   "language": "python",
   "name": "python3"
  },
  "language_info": {
   "codemirror_mode": {
    "name": "ipython",
    "version": 3
   },
   "file_extension": ".py",
   "mimetype": "text/x-python",
   "name": "python",
   "nbconvert_exporter": "python",
   "pygments_lexer": "ipython3",
   "version": "3.7.6"
  }
 },
 "nbformat": 4,
 "nbformat_minor": 4
}
