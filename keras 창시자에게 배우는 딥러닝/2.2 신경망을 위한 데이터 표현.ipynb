{
 "cells": [
  {
   "cell_type": "markdown",
   "metadata": {},
   "source": [
    "### 텐서란 데이터를 위한 컨테이너임. 거의 수치형 데이터를 다루므로 숫자를 위한 컨테이너라 할 수 있다.\n",
    "\n",
    "하나의 숫자만 담고 있는 텐서 = 스칼라(scala)\n",
    "ndim 속성을 사용하면 넘파이 배열의 축 갯수 확인 가능 -> 텐서의 축 갯수 = 0,랭크=0이라고 함"
   ]
  },
  {
   "cell_type": "code",
   "execution_count": 1,
   "metadata": {},
   "outputs": [
    {
     "name": "stdout",
     "output_type": "stream",
     "text": [
      "12 x의 랭크 :  0\n"
     ]
    }
   ],
   "source": [
    "import numpy as np\n",
    "x = np.array(12)\n",
    "print(x, \"x의 랭크 : \" ,x.ndim)"
   ]
  },
  {
   "cell_type": "markdown",
   "metadata": {},
   "source": [
    "숫자의 배열을 벡터락 하며 1D텐서라고 부름, 하나의 축(axis)를 가짐\n",
    "### 5개의 벡터 -> 5차원 벡터  != 5D텐서! 텐서는 축(랭크)의 갯수에 따라 늘어나는 것. ndim = 랭크 수를 표현"
   ]
  },
  {
   "cell_type": "code",
   "execution_count": 2,
   "metadata": {},
   "outputs": [
    {
     "data": {
      "text/plain": [
       "array([12,  3,  6, 14,  7])"
      ]
     },
     "execution_count": 2,
     "metadata": {},
     "output_type": "execute_result"
    }
   ],
   "source": [
    "x = np.array([12,3,6,14,7])# 벡터(1D 텐서)\n",
    "x"
   ]
  },
  {
   "cell_type": "code",
   "execution_count": 3,
   "metadata": {},
   "outputs": [
    {
     "data": {
      "text/plain": [
       "1"
      ]
     },
     "execution_count": 3,
     "metadata": {},
     "output_type": "execute_result"
    }
   ],
   "source": [
    "x.ndim"
   ]
  },
  {
   "cell_type": "markdown",
   "metadata": {},
   "source": [
    "### 행렬(2D 텐서)\n",
    "2개의 축(행,렬)"
   ]
  },
  {
   "cell_type": "code",
   "execution_count": 4,
   "metadata": {},
   "outputs": [
    {
     "name": "stdout",
     "output_type": "stream",
     "text": [
      "[[ 5 78  2 34  0]\n",
      " [ 6 79  3 35  1]\n",
      " [ 7 80  4 36  2]] Rank :  2\n"
     ]
    }
   ],
   "source": [
    "x = np.array([[5,78,2,34,0],\n",
    "              [6,79,3,35,1],\n",
    "              [7,80,4,36,2]\n",
    "             ])\n",
    "print(x , \"Rank : \" ,x.ndim)"
   ]
  },
  {
   "cell_type": "markdown",
   "metadata": {},
   "source": [
    "### 3D 텐서와 고차원 텐서 "
   ]
  },
  {
   "cell_type": "code",
   "execution_count": 5,
   "metadata": {},
   "outputs": [
    {
     "data": {
      "text/plain": [
       "3"
      ]
     },
     "execution_count": 5,
     "metadata": {},
     "output_type": "execute_result"
    }
   ],
   "source": [
    "x = np.array([[[5,78,2,34,0],\n",
    "              [6,79,3,35,1],\n",
    "              [7,80,4,36,2]],\n",
    "              [[5,78,2,34,0],\n",
    "              [6,79,3,35,1],\n",
    "              [7,80,4,36,2]],\n",
    "              [[5,78,2,34,0],\n",
    "              [6,79,3,35,1],\n",
    "              [7,80,4,36,2]]])\n",
    "x.ndim"
   ]
  },
  {
   "cell_type": "markdown",
   "metadata": {},
   "source": [
    "### 핵심 속성\n",
    "\n",
    "#### - 축의 개수(랭크) : 3D 텐서는 3개의 축, 행렬은 2개의 축, ndim속성에 저장되어 있음\n",
    "#### - 크기(shape) : (3,5) 행렬의 크기지만 축이 3D텐서이므로 (3,3,5)의 텐서크기를 가짐\n",
    "#### - 데이터 타입 : float32,unit8,float64 등이 있고 드물게 char사용, 연속된 메모리에 저장되기 때문에 가변길이 문자열 지원하지 않음"
   ]
  },
  {
   "cell_type": "code",
   "execution_count": 6,
   "metadata": {},
   "outputs": [
    {
     "name": "stderr",
     "output_type": "stream",
     "text": [
      "Using TensorFlow backend.\n"
     ]
    }
   ],
   "source": [
    "from keras.datasets import mnist\n",
    "(train_images, train_labels),(test_images,test_labels) = mnist.load_data()"
   ]
  },
  {
   "cell_type": "code",
   "execution_count": 7,
   "metadata": {},
   "outputs": [
    {
     "data": {
      "text/plain": [
       "3"
      ]
     },
     "execution_count": 7,
     "metadata": {},
     "output_type": "execute_result"
    }
   ],
   "source": [
    "train_images.ndim"
   ]
  },
  {
   "cell_type": "code",
   "execution_count": 8,
   "metadata": {},
   "outputs": [
    {
     "data": {
      "text/plain": [
       "(60000, 28, 28)"
      ]
     },
     "execution_count": 8,
     "metadata": {},
     "output_type": "execute_result"
    }
   ],
   "source": [
    "train_images.shape"
   ]
  },
  {
   "cell_type": "code",
   "execution_count": 9,
   "metadata": {},
   "outputs": [
    {
     "data": {
      "text/plain": [
       "dtype('uint8')"
      ]
     },
     "execution_count": 9,
     "metadata": {},
     "output_type": "execute_result"
    }
   ],
   "source": [
    "train_images.dtype"
   ]
  },
  {
   "cell_type": "markdown",
   "metadata": {},
   "source": [
    "### 8bit 정수형 3D텐서, 28x28 크기의 정수 행렬 6만개가 있는 배열임, 행렬의 각 원소는 0~255값을 가짐"
   ]
  },
  {
   "cell_type": "code",
   "execution_count": 13,
   "metadata": {},
   "outputs": [
    {
     "data": {
      "image/png": "[encoded data removed]",
      "text/plain": [
       "<Figure size 432x288 with 1 Axes>"
      ]
     },
     "metadata": {
      "needs_background": "light"
     },
     "output_type": "display_data"
    }
   ],
   "source": [
    "digit = train_images[4]\n",
    "\n",
    "import matplotlib.pyplot as plt\n",
    "plt.imshow(digit, cmap=plt.cm.binary)\n",
    "plt.show()"
   ]
  },
  {
   "cell_type": "markdown",
   "metadata": {},
   "source": [
    "### 넘파이로 텐서 조작하기"
   ]
  },
  {
   "cell_type": "code",
   "execution_count": 14,
   "metadata": {},
   "outputs": [
    {
     "data": {
      "text/plain": [
       "(90, 28, 28)"
      ]
     },
     "execution_count": 14,
     "metadata": {},
     "output_type": "execute_result"
    }
   ],
   "source": [
    "my_slice = train_images[10:100] # 11번째에서 101번째 까지(101 미포함)\n",
    "# train_images[10:100,: , :]\n",
    "# train_images[10:100,0:28,0:28]\n",
    "my_slice.shape"
   ]
  },
  {
   "cell_type": "markdown",
   "metadata": {},
   "source": [
    "###  배치 데이터\n",
    "모든 데이터 텐서의 첫 번째 축(0번째) = 샘플 축\n",
    "다음은 크기가 128인 배치\n",
    "\n",
    "batch = train_images[:128]\n",
    "batch1 = train_images[128:256]\n",
    "batch2 = train_images[128*n : 128*(n+1)]"
   ]
  },
  {
   "cell_type": "markdown",
   "metadata": {},
   "source": [
    "### 텐서의 실제 사례\n",
    "\n",
    "#### - 벡터 데이터 : (samples, features) 크기의 2D 텐서\n",
    "#### - 시계열 데이터 or 시퀀스(sequence) 데이터 : (samples,timesteps,features) 크기의 3D텐서\n",
    "#### - 이미지 : (samples, height, width, channels) or (samples, channels, height, width) 크기의 4D텐서\n",
    "#### - 동영상 : (samples, frames, height, width, channels) or (samples, frames, channels, height, width) 크기의 5D텐서"
   ]
  },
  {
   "cell_type": "markdown",
   "metadata": {},
   "source": [
    "### 벡터 데이터\n",
    " - 샘플 축, 특성 축으로 구성(2D텐서)\n",
    " \n",
    " ex) 나이,우편 번호, 소득으로 구성된 인구 10만명의 통계 데이터 = (100000,3) 크기의 텐서에 저장\n",
    " \n",
    " ex) 각 단어가 등장한 횟수로 표현된 텍스트 문서 데이터(총 2만개로 구성된 사전). 500개의 문서로 이루어진 데이터 셋=(500,20000)크기의 텐서"
   ]
  },
  {
   "cell_type": "markdown",
   "metadata": {},
   "source": [
    "#### 시계열 Or 시퀀스 데이터\n",
    "- 데이터에서 시간이 중요할 때 시간 축을 포함하여 3D텐서 저장\n",
    "\n",
    " ex) 주식 가격 데이터셋 : 1분마다 현재 주식가격, 지난 1분 동안에 최고 및 최소 가격 저장( 하루거래 390분) 250일치의 데이터 = (250,390,3)\n",
    " \n",
    " ex) 트윗 데이터셋 : 128개의 알파벳으로 구성된 280개 문자 시퀀스, 각 트윗은(280,128)의 2D텐서, 100만개의 트윗은 (1000000, 280, 128) "
   ]
  },
  {
   "cell_type": "code",
   "execution_count": null,
   "metadata": {},
   "outputs": [],
   "source": []
  }
 ],
 "metadata": {
  "kernelspec": {
   "display_name": "Python 3",
   "language": "python",
   "name": "python3"
  },
  "language_info": {
   "codemirror_mode": {
    "name": "ipython",
    "version": 3
   },
   "file_extension": ".py",
   "mimetype": "text/x-python",
   "name": "python",
   "nbconvert_exporter": "python",
   "pygments_lexer": "ipython3",
   "version": "3.7.6"
  }
 },
 "nbformat": 4,
 "nbformat_minor": 4
}
