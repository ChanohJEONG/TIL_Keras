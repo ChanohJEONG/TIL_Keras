{
 "cells": [
  {
   "cell_type": "markdown",
   "metadata": {},
   "source": [
    "### 3.5 뉴스 기사 분류: 다중 분류 문제"
   ]
  },
  {
   "cell_type": "code",
   "execution_count": 1,
   "metadata": {},
   "outputs": [
    {
     "name": "stderr",
     "output_type": "stream",
     "text": [
      "Using TensorFlow backend.\n"
     ]
    }
   ],
   "source": [
    "from keras.datasets import reuters\n",
    "\n",
    "(train_data, train_labels), (test_data, test_labels) = reuters.load_data(num_words=10000)"
   ]
  },
  {
   "cell_type": "code",
   "execution_count": 2,
   "metadata": {},
   "outputs": [
    {
     "name": "stdout",
     "output_type": "stream",
     "text": [
      "8982\n",
      "2246\n"
     ]
    }
   ],
   "source": [
    "print(len(train_data))\n",
    "print(len(test_data))"
   ]
  },
  {
   "cell_type": "code",
   "execution_count": 3,
   "metadata": {},
   "outputs": [
    {
     "data": {
      "text/plain": [
       "[1,\n",
       " 3267,\n",
       " 699,\n",
       " 3434,\n",
       " 2295,\n",
       " 56,\n",
       " 2,\n",
       " 7511,\n",
       " 9,\n",
       " 56,\n",
       " 3906,\n",
       " 1073,\n",
       " 81,\n",
       " 5,\n",
       " 1198,\n",
       " 57,\n",
       " 366,\n",
       " 737,\n",
       " 132,\n",
       " 20,\n",
       " 4093,\n",
       " 7,\n",
       " 2,\n",
       " 49,\n",
       " 2295,\n",
       " 2,\n",
       " 1037,\n",
       " 3267,\n",
       " 699,\n",
       " 3434,\n",
       " 8,\n",
       " 7,\n",
       " 10,\n",
       " 241,\n",
       " 16,\n",
       " 855,\n",
       " 129,\n",
       " 231,\n",
       " 783,\n",
       " 5,\n",
       " 4,\n",
       " 587,\n",
       " 2295,\n",
       " 2,\n",
       " 2,\n",
       " 775,\n",
       " 7,\n",
       " 48,\n",
       " 34,\n",
       " 191,\n",
       " 44,\n",
       " 35,\n",
       " 1795,\n",
       " 505,\n",
       " 17,\n",
       " 12]"
      ]
     },
     "execution_count": 3,
     "metadata": {},
     "output_type": "execute_result"
    }
   ],
   "source": [
    "train_data[1]"
   ]
  },
  {
   "cell_type": "code",
   "execution_count": 4,
   "metadata": {},
   "outputs": [
    {
     "data": {
      "text/plain": [
       "'? ? ? said as a result of its december acquisition of space co it expects earnings per share in 1987 of 1 15 to 1 30 dlrs per share up from 70 cts in 1986 the company said pretax net should rise to nine to 10 mln dlrs from six mln dlrs in 1986 and rental operation revenues to 19 to 22 mln dlrs from 12 5 mln dlrs it said cash flow per share this year should be 2 50 to three dlrs reuter 3'"
      ]
     },
     "execution_count": 4,
     "metadata": {},
     "output_type": "execute_result"
    }
   ],
   "source": [
    "word_index = reuters.get_word_index()# word와 index가 key,value 형식으로 저장되어 있는 dataset 불러오기\n",
    "reverse_word_index = dict([(value,key) for (key,value) in word_index.items()])# key, value 위치를 바꿔줌\n",
    "decoded_newswire = ' '.join([reverse_word_index.get(i-3 , '?') for i in train_data[0]])\n",
    "# train_data[0]에는 index값만 저장되어 있음, 즉 index 값마다 저장되어있는 본래 단어(values)를 불러와 저장\n",
    "decoded_newswire"
   ]
  },
  {
   "cell_type": "code",
   "execution_count": 5,
   "metadata": {},
   "outputs": [],
   "source": [
    "import numpy as np\n",
    "\n",
    "def vectorize_sequences(sequences, dimension=10000):\n",
    "    results = np.zeros((len(sequences), dimension))\n",
    "    for i, sequence in enumerate(sequences):\n",
    "        results[i,sequence] = 1.\n",
    "    return results\n",
    "# 훈련데이터는 list로 구성된 array임\n",
    "x_train = vectorize_sequences(train_data)# 훈련데이터를 벡터로 변환! \n",
    "x_test = vectorize_sequences(test_data)"
   ]
  },
  {
   "cell_type": "code",
   "execution_count": 6,
   "metadata": {},
   "outputs": [],
   "source": [
    "from keras.utils.np_utils import to_categorical\n",
    "\n",
    "one_hot_train_labels = to_categorical(train_labels) # 훈련레이블 벡터 변환\n",
    "\n",
    "one_hot_test_labels = to_categorical(test_labels) # 테스트 레이블 벡터 변환"
   ]
  },
  {
   "cell_type": "code",
   "execution_count": 7,
   "metadata": {},
   "outputs": [],
   "source": [
    "from keras import models\n",
    "from keras import layers\n",
    "\n",
    "model = models.Sequential()\n",
    "model.add(layers.Dense(64,activation='relu', input_shape=(10000,)))\n",
    "model.add(layers.Dense(64,activation='relu'))\n",
    "model.add(layers.Dense(46,activation='softmax')) # 46차원 벡터를 출력하겠다는 뜻임."
   ]
  },
  {
   "cell_type": "code",
   "execution_count": 8,
   "metadata": {},
   "outputs": [],
   "source": [
    "# categorical_crossentropy 는 두 확률 분포 사이의 거리를 나타냄, 이거리를 최소화 하면 진짜 레이블에 가까운 출력을 내도록 모델 훈련\n",
    "model.compile(optimizer='rmsprop',\n",
    "             loss='categorical_crossentropy',\n",
    "             metrics=['accuracy'])"
   ]
  },
  {
   "cell_type": "code",
   "execution_count": 9,
   "metadata": {},
   "outputs": [],
   "source": [
    "x_val = x_train[:1000]# 1000개 샘플 따로 저장\n",
    "partial_x_train = x_train[1000:]\n",
    "\n",
    "y_val = one_hot_train_labels[:1000]\n",
    "partial_y_train = one_hot_train_labels[1000:]"
   ]
  },
  {
   "cell_type": "code",
   "execution_count": 10,
   "metadata": {},
   "outputs": [
    {
     "name": "stdout",
     "output_type": "stream",
     "text": [
      "Train on 7982 samples, validate on 1000 samples\n",
      "Epoch 1/20\n",
      "7982/7982 [==============================] - 2s 210us/step - loss: 2.5488 - accuracy: 0.4812 - val_loss: 1.6994 - val_accuracy: 0.6530\n",
      "Epoch 2/20\n",
      "7982/7982 [==============================] - 2s 192us/step - loss: 1.3972 - accuracy: 0.7106 - val_loss: 1.3094 - val_accuracy: 0.7130\n",
      "Epoch 3/20\n",
      "7982/7982 [==============================] - 2s 205us/step - loss: 1.0291 - accuracy: 0.7843 - val_loss: 1.1130 - val_accuracy: 0.7720\n",
      "Epoch 4/20\n",
      "7982/7982 [==============================] - 1s 172us/step - loss: 0.8083 - accuracy: 0.8259 - val_loss: 1.0171 - val_accuracy: 0.7880\n",
      "Epoch 5/20\n",
      "7982/7982 [==============================] - 1s 184us/step - loss: 0.6404 - accuracy: 0.8643 - val_loss: 0.9576 - val_accuracy: 0.8000\n",
      "Epoch 6/20\n",
      "7982/7982 [==============================] - 1s 177us/step - loss: 0.5135 - accuracy: 0.8918 - val_loss: 0.9342 - val_accuracy: 0.8010\n",
      "Epoch 7/20\n",
      "7982/7982 [==============================] - 2s 226us/step - loss: 0.4146 - accuracy: 0.9137 - val_loss: 0.8972 - val_accuracy: 0.8220\n",
      "Epoch 8/20\n",
      "7982/7982 [==============================] - 1s 171us/step - loss: 0.3395 - accuracy: 0.9291 - val_loss: 0.9203 - val_accuracy: 0.8050\n",
      "Epoch 9/20\n",
      "7982/7982 [==============================] - 1s 179us/step - loss: 0.2796 - accuracy: 0.9394 - val_loss: 0.8928 - val_accuracy: 0.8160\n",
      "Epoch 10/20\n",
      "7982/7982 [==============================] - 1s 171us/step - loss: 0.2360 - accuracy: 0.9451 - val_loss: 0.9425 - val_accuracy: 0.8160\n",
      "Epoch 11/20\n",
      "7982/7982 [==============================] - 2s 210us/step - loss: 0.2089 - accuracy: 0.9481 - val_loss: 0.9484 - val_accuracy: 0.8210\n",
      "Epoch 12/20\n",
      "7982/7982 [==============================] - 1s 186us/step - loss: 0.1809 - accuracy: 0.9531 - val_loss: 0.9513 - val_accuracy: 0.8210\n",
      "Epoch 13/20\n",
      "7982/7982 [==============================] - 1s 177us/step - loss: 0.1627 - accuracy: 0.9530 - val_loss: 0.9634 - val_accuracy: 0.8240\n",
      "Epoch 14/20\n",
      "7982/7982 [==============================] - 1s 178us/step - loss: 0.1520 - accuracy: 0.9545 - val_loss: 0.9983 - val_accuracy: 0.8090\n",
      "Epoch 15/20\n",
      "7982/7982 [==============================] - 1s 185us/step - loss: 0.1403 - accuracy: 0.9568 - val_loss: 1.0530 - val_accuracy: 0.8100\n",
      "Epoch 16/20\n",
      "7982/7982 [==============================] - 2s 209us/step - loss: 0.1310 - accuracy: 0.9577 - val_loss: 1.0828 - val_accuracy: 0.8010\n",
      "Epoch 17/20\n",
      "7982/7982 [==============================] - 1s 172us/step - loss: 0.1261 - accuracy: 0.9560 - val_loss: 1.0801 - val_accuracy: 0.8070\n",
      "Epoch 18/20\n",
      "7982/7982 [==============================] - 1s 178us/step - loss: 0.1212 - accuracy: 0.9562 - val_loss: 1.0965 - val_accuracy: 0.8070\n",
      "Epoch 19/20\n",
      "7982/7982 [==============================] - 1s 174us/step - loss: 0.1182 - accuracy: 0.9570 - val_loss: 1.1054 - val_accuracy: 0.8040\n",
      "Epoch 20/20\n",
      "7982/7982 [==============================] - 2s 230us/step - loss: 0.1142 - accuracy: 0.9564 - val_loss: 1.1017 - val_accuracy: 0.8150\n"
     ]
    }
   ],
   "source": [
    "history = model.fit(partial_x_train,\n",
    "                   partial_y_train,\n",
    "                   epochs=20,\n",
    "                   batch_size=512,\n",
    "                   validation_data=(x_val,y_val))"
   ]
  },
  {
   "cell_type": "code",
   "execution_count": 16,
   "metadata": {},
   "outputs": [
    {
     "data": {
      "image/png": "[encoded data removed]",
      "text/plain": [
       "<Figure size 432x288 with 1 Axes>"
      ]
     },
     "metadata": {
      "needs_background": "light"
     },
     "output_type": "display_data"
    }
   ],
   "source": [
    "import matplotlib.pyplot as plt\n",
    "\n",
    "loss = history.history['loss']\n",
    "val_loss = history.history['val_loss']\n",
    "\n",
    "epochs = range(1,len(loss)+1)\n",
    "\n",
    "plt.plot(epochs,loss,'bo',label='Training loss')\n",
    "plt.plot(epochs, val_loss, 'b', label = 'Validation loss')\n",
    "plt.title('Training and validation loss')\n",
    "plt.xlabel('Epochs')\n",
    "plt.ylabel('Loss')\n",
    "plt.legend()\n",
    "\n",
    "plt.show()"
   ]
  },
  {
   "cell_type": "code",
   "execution_count": 21,
   "metadata": {},
   "outputs": [
    {
     "data": {
      "image/png": "[encoded data removed]",
      "text/plain": [
       "<Figure size 432x288 with 1 Axes>"
      ]
     },
     "metadata": {
      "needs_background": "light"
     },
     "output_type": "display_data"
    }
   ],
   "source": [
    "plt.clf()\n",
    "\n",
    "acc = history.history['accuracy']\n",
    "val_acc = history.history['val_accuracy']\n",
    "\n",
    "plt.plot(epochs, acc, 'bo', label='Training acc')\n",
    "plt.plot(epochs, val_acc,'b',label='Validation acc')\n",
    "plt.title('Training and validation accuracy')\n",
    "plt.xlabel('Epochs')\n",
    "plt.ylabel('Accuracy')\n",
    "plt.legend()\n",
    "\n",
    "plt.show()"
   ]
  },
  {
   "cell_type": "code",
   "execution_count": 33,
   "metadata": {},
   "outputs": [
    {
     "name": "stdout",
     "output_type": "stream",
     "text": [
      "Train on 7982 samples, validate on 1000 samples\n",
      "Epoch 1/9\n",
      "7982/7982 [==============================] - 2s 245us/step - loss: 2.5327 - accuracy: 0.4936 - val_loss: 1.5752 - val_accuracy: 0.6680\n",
      "Epoch 2/9\n",
      "7982/7982 [==============================] - 2s 209us/step - loss: 1.2429 - accuracy: 0.7425 - val_loss: 1.2062 - val_accuracy: 0.7540\n",
      "Epoch 3/9\n",
      "7982/7982 [==============================] - 2s 207us/step - loss: 0.8644 - accuracy: 0.8237 - val_loss: 1.0438 - val_accuracy: 0.7740\n",
      "Epoch 4/9\n",
      "7982/7982 [==============================] - 2s 222us/step - loss: 0.6400 - accuracy: 0.8706 - val_loss: 0.9402 - val_accuracy: 0.8020\n",
      "Epoch 5/9\n",
      "7982/7982 [==============================] - 2s 222us/step - loss: 0.4811 - accuracy: 0.9000 - val_loss: 0.8948 - val_accuracy: 0.8140\n",
      "Epoch 6/9\n",
      "7982/7982 [==============================] - 2s 211us/step - loss: 0.3724 - accuracy: 0.9251 - val_loss: 0.8964 - val_accuracy: 0.8190\n",
      "Epoch 7/9\n",
      "7982/7982 [==============================] - 2s 211us/step - loss: 0.2936 - accuracy: 0.9370 - val_loss: 0.8657 - val_accuracy: 0.8210\n",
      "Epoch 8/9\n",
      "7982/7982 [==============================] - 2s 232us/step - loss: 0.2402 - accuracy: 0.9450 - val_loss: 0.9213 - val_accuracy: 0.8070\n",
      "Epoch 9/9\n",
      "7982/7982 [==============================] - 2s 214us/step - loss: 0.2074 - accuracy: 0.9478 - val_loss: 0.9277 - val_accuracy: 0.8110\n",
      "2246/2246 [==============================] - 0s 183us/step\n"
     ]
    },
    {
     "data": {
      "text/plain": [
       "[1.0202681952465462, 0.7911843061447144]"
      ]
     },
     "execution_count": 33,
     "metadata": {},
     "output_type": "execute_result"
    }
   ],
   "source": [
    "model = models.Sequential()\n",
    "model.add(layers.Dense(128, activation='relu',input_shape=(10000,)))\n",
    "model.add(layers.Dense(64, activation='relu'))\n",
    "model.add(layers.Dense(46, activation='softmax'))\n",
    "\n",
    "model.compile(optimizer='rmsprop',\n",
    "             loss = 'categorical_crossentropy',\n",
    "             metrics=['accuracy'])\n",
    "model.fit(partial_x_train,\n",
    "         partial_y_train,\n",
    "         epochs=9,\n",
    "         batch_size=512,\n",
    "         validation_data=(x_val,y_val))\n",
    "results = model.evaluate(x_test, one_hot_test_labels)\n",
    "results"
   ]
  },
  {
   "cell_type": "code",
   "execution_count": 23,
   "metadata": {},
   "outputs": [],
   "source": [
    "predictions = model.predict(x_test)"
   ]
  }
 ],
 "metadata": {
  "kernelspec": {
   "display_name": "Python 3",
   "language": "python",
   "name": "python3"
  },
  "language_info": {
   "codemirror_mode": {
    "name": "ipython",
    "version": 3
   },
   "file_extension": ".py",
   "mimetype": "text/x-python",
   "name": "python",
   "nbconvert_exporter": "python",
   "pygments_lexer": "ipython3",
   "version": "3.7.6"
  }
 },
 "nbformat": 4,
 "nbformat_minor": 4
}
