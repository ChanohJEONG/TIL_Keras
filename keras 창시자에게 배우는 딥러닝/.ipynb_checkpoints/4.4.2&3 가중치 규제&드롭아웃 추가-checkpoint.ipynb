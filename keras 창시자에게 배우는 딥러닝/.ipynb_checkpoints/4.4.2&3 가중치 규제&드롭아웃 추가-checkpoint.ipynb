{
 "cells": [
  {
   "cell_type": "markdown",
   "metadata": {},
   "source": [
    "### 가중치 추가\n",
    "- L1 규제 : 가중치의 절대값에 비례하는 비용 추가\n",
    "- L2 규제 : 가중치의 제곱에 비례하는 비용 추가 ( 신경망에서 '가중치 감쇠'라고도 부름 )"
   ]
  },
  {
   "cell_type": "code",
   "execution_count": null,
   "metadata": {},
   "outputs": [],
   "source": [
    "from keras import regularizers\n",
    "\n",
    "model = models.Sequential()\n",
    "model.add(layers.Dense(16, kernel_regularizer=regularizers.l2(0.001), # 가중치 행렬의 모든원소 제곱 후 0.001을 곱함 -> 네트워크 전체 손실\n",
    "                      activation='relu', input_shape(10000,)))\n",
    "model.add(layers.Dense(16, kernel_regularizer=regularizers.l2(0.001),\n",
    "                      activation='relu'))\n",
    "model.add(layers.Dense(1,activation='sigmoid'))"
   ]
  },
  {
   "cell_type": "code",
   "execution_count": null,
   "metadata": {},
   "outputs": [],
   "source": [
    "from keras import regularizers\n",
    "\n",
    "regularizers.l1(0.001)\n",
    "\n",
    "regularizers.l1_l2(l1=0.001, l2=0.001)"
   ]
  },
  {
   "cell_type": "markdown",
   "metadata": {},
   "source": [
    "### 드롭아웃 추가\n",
    "- 훈련동안 무작위로 층의 일부 출력 특성을 제외시킴(샘플의 일부분을 0으로 바꿔서 학습시킴)\n",
    "\n",
    "   --> 각샘플의 뉴런을 제거하므로써 뉴런의 부정한 협업을 방지하고 결국 과대적합을 감소시키는 원리 "
   ]
  },
  {
   "cell_type": "code",
   "execution_count": null,
   "metadata": {},
   "outputs": [],
   "source": [
    "model = models.Sequential()\n",
    "model.add(layers.Dense(16, activation='relu',input_shape=(10000,)))\n",
    "model.add(layers.Dropout(0.5)) # 보통 0.2 ~ 0.5로 지정, 즉 0.5배만큼 스케일 조정\n",
    "model.add(layers.Dense(16, activation='relu'))\n",
    "model.add(layers.Dropout(0.5))\n",
    "model.add(layers.Dense(1,activation='sigmoid'))\n"
   ]
  },
  {
   "cell_type": "markdown",
   "metadata": {},
   "source": [
    "### 과대적합을 방지하기 위해 가장 널리 사용하는 방법\n",
    "\n",
    "- 훈련데이터를 더 모읍니다.\n",
    "- 네트워크의 용량을 감소시킵니다.\n",
    "- 가중치 규제를 추가합니다.\n",
    "- 드롭아웃을 추가합니다."
   ]
  }
 ],
 "metadata": {
  "kernelspec": {
   "display_name": "Python 3",
   "language": "python",
   "name": "python3"
  },
  "language_info": {
   "codemirror_mode": {
    "name": "ipython",
    "version": 3
   },
   "file_extension": ".py",
   "mimetype": "text/x-python",
   "name": "python",
   "nbconvert_exporter": "python",
   "pygments_lexer": "ipython3",
   "version": "3.7.6"
  }
 },
 "nbformat": 4,
 "nbformat_minor": 4
}
