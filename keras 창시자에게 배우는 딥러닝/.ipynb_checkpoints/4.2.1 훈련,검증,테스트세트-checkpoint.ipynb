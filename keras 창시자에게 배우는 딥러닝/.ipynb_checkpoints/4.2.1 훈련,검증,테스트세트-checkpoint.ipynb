{
 "cells": [
  {
   "cell_type": "markdown",
   "metadata": {},
   "source": [
    "### 1. 단순 홀드아웃 검증\n",
    "가용데이터 = 훈련세트 + 홀드아웃 검증 세트(평가)\n",
    "- 데이터가 적을때 검증,테스트 세트의 샘플이 적기때문에 전체 데이터를 대표하지 못할 수도있음"
   ]
  },
  {
   "cell_type": "code",
   "execution_count": null,
   "metadata": {},
   "outputs": [],
   "source": [
    "num_validation_samples = 10000\n",
    "\n",
    "np.random.shuffle(data)# 데이터 섞기\n",
    "\n",
    "validation_data = data[:num_validation_samples]# 검증 세트 만들기\n",
    "data = data[num_validation_samples:]# 훈련세트로 사용\n",
    "\n",
    "training_data = data[:]\n",
    "\n",
    "model = get_model()\n",
    "model.train(training_data)# data로 학습\n",
    "validation_score = model.evaluate(validation_data)# 검증세트로 평가\n",
    "\n",
    "# 모델 튜닝, 재학습, 평가, 튜닝 반복 ...\n",
    "\n",
    "model = get_model()\n",
    "model.train(np.concatenate([training_data, validation_data]))\n",
    "test_score = model.evaluate(test_data)"
   ]
  },
  {
   "cell_type": "markdown",
   "metadata": {},
   "source": [
    "### 2. K-겹 교차 검증\n",
    "가용 데이터 = K(data),K-1개의 data로 훈련, 나머지 1개를 검증데이터로 평가\n",
    "- 데이터 분할에 따라 편차가 클 때 사용\n",
    "- P(=epochs) x K(=fold) 개의 모델을 훈련하기 때문에 비용이 큼"
   ]
  },
  {
   "cell_type": "code",
   "execution_count": null,
   "metadata": {},
   "outputs": [],
   "source": [
    "k = 4 # 데이터를 4개로 구분\n",
    "num_validation_samples = len(data) // k # k로 나눈 몫\n",
    "\n",
    "np.random.shuffle(data)\n",
    "\n",
    "validation_scores = []\n",
    "for fold in range(k):\n",
    "    validation_data = data[num_validation_samples * fold : num_validation_samples * (fold+1)] # 검증 세트로 구분 1개의 섹션\n",
    "    training_data = data[ : num_validation_samples * fold] + data[ num_validation_samples * (fold +1) : ] # 검증세트 구간을 제외한 data\n",
    "    \n",
    "    model = get.model()\n",
    "    model.train(training_data)# 학습\n",
    "    validation_score = model.evaluate(validation_data)# 검증세트로 평가 한 점수\n",
    "    validation_scores.append(validation_score)\n",
    "\n",
    "validation_score = np.average(validation_scores) # 검증점수 : K개 폴드의 검증점수 평균\n",
    "\n",
    "model = get_model()\n",
    "model.train(data)\n",
    "test_score = model.evaluate(test_data) # 테스트 데이터를 제외하고 전체데이터 최종 모델 훈련!"
   ]
  },
  {
   "cell_type": "markdown",
   "metadata": {},
   "source": [
    "- 대표성 있는 데이터 : 학습데이터와, 검증데이터를 구분하기 전 반드시 랜덤으로 섞을 것\n",
    "- 시간의 방향 : 미래를 예측하는 데이터는 섞으면 안됨! 미래의 정보가 누출됨\n",
    "- 데이터 중복 : 학습데이터와 검증데이터의 중복을 제거해야함"
   ]
  }
 ],
 "metadata": {
  "kernelspec": {
   "display_name": "Python 3",
   "language": "python",
   "name": "python3"
  },
  "language_info": {
   "codemirror_mode": {
    "name": "ipython",
    "version": 3
   },
   "file_extension": ".py",
   "mimetype": "text/x-python",
   "name": "python",
   "nbconvert_exporter": "python",
   "pygments_lexer": "ipython3",
   "version": "3.7.6"
  }
 },
 "nbformat": 4,
 "nbformat_minor": 4
}
