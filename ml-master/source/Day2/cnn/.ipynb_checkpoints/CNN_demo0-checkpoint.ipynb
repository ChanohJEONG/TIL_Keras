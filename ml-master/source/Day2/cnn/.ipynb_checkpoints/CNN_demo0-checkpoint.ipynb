{
 "cells": [
  {
   "cell_type": "code",
   "execution_count": null,
   "metadata": {},
   "outputs": [],
   "source": [
    "from keras.datasets import cifar10\n",
    "import matplotlib.pyplot as plt\n",
    "import numpy as np\n",
    "%matplotlib inline \n",
    "\n",
    "(x_train,y_train),(x_test,y_test)=cifar10.load_data()\n",
    "\n",
    "#5x5 이미지표시\n",
    "plt.figure(figsize=(10,10))\n",
    "for i in range(25):\n",
    "    rand_num=np.random.randint(0,50000)\n",
    "    cifar_img=plt.subplot(5,5,i+1)\n",
    "    plt.imshow(x_train[rand_num])\n",
    "    #x좌표 눈금 삭제\n",
    "    plt.tick_params(labelbottom='off')\n",
    "    #y좌표 눈금 삭제\n",
    "    plt.tick_params(labelleft='off')\n",
    "    #정답 레이블 표시\n",
    "    plt.title(y_train[rand_num])\n",
    "\n",
    "\n",
    "plt.show()"
   ]
  },
  {
   "cell_type": "code",
   "execution_count": null,
   "metadata": {},
   "outputs": [],
   "source": []
  }
 ],
 "metadata": {
  "kernelspec": {
   "display_name": "Python 3",
   "language": "python",
   "name": "python3"
  },
  "language_info": {
   "codemirror_mode": {
    "name": "ipython",
    "version": 3
   },
   "file_extension": ".py",
   "mimetype": "text/x-python",
   "name": "python",
   "nbconvert_exporter": "python",
   "pygments_lexer": "ipython3",
   "version": "3.7.3"
  }
 },
 "nbformat": 4,
 "nbformat_minor": 2
}
