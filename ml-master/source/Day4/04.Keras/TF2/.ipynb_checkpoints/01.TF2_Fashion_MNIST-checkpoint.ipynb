{
 "cells": [
  {
   "cell_type": "code",
   "execution_count": 1,
   "metadata": {},
   "outputs": [
    {
     "data": {
      "text/plain": [
       "'2.1.0'"
      ]
     },
     "execution_count": 1,
     "metadata": {},
     "output_type": "execute_result"
    }
   ],
   "source": [
    "import tensorflow as tf\n",
    "tf.__version__"
   ]
  },
  {
   "cell_type": "code",
   "execution_count": 2,
   "metadata": {},
   "outputs": [],
   "source": [
    "import numpy as np\n",
    "import matplotlib.pyplot as plt\n",
    "from tensorflow.keras.layers import Input, Conv2D, Dense, Flatten, Dropout\n",
    "from tensorflow.keras.models import Model"
   ]
  },
  {
   "cell_type": "code",
   "execution_count": 3,
   "metadata": {},
   "outputs": [
    {
     "name": "stdout",
     "output_type": "stream",
     "text": [
      "Downloading data from https://storage.googleapis.com/tensorflow/tf-keras-datasets/train-labels-idx1-ubyte.gz\n",
      "32768/29515 [=================================] - 0s 1us/step\n",
      "Downloading data from https://storage.googleapis.com/tensorflow/tf-keras-datasets/train-images-idx3-ubyte.gz\n",
      "26427392/26421880 [==============================] - 2s 0us/step\n",
      "Downloading data from https://storage.googleapis.com/tensorflow/tf-keras-datasets/t10k-labels-idx1-ubyte.gz\n",
      "8192/5148 [===============================================] - 0s 0us/step\n",
      "Downloading data from https://storage.googleapis.com/tensorflow/tf-keras-datasets/t10k-images-idx3-ubyte.gz\n",
      "4423680/4422102 [==============================] - 0s 0us/step\n",
      "x_train.shape: (60000, 28, 28)\n"
     ]
    }
   ],
   "source": [
    "# Load in the data\n",
    "fashion_mnist = tf.keras.datasets.fashion_mnist\n",
    "\n",
    "(x_train, y_train), (x_test, y_test) = fashion_mnist.load_data()\n",
    "x_train, x_test = x_train / 255.0, x_test / 255.0\n",
    "print(\"x_train.shape:\", x_train.shape)"
   ]
  },
  {
   "cell_type": "code",
   "execution_count": 4,
   "metadata": {},
   "outputs": [
    {
     "name": "stdout",
     "output_type": "stream",
     "text": [
      "(60000, 28, 28, 1)\n"
     ]
    }
   ],
   "source": [
    "# the data is only 2D\n",
    "# convolution expects height x width x color\n",
    "x_train = np.expand_dims(x_train, -1)\n",
    "x_test = np.expand_dims(x_test, -1)\n",
    "print(x_train.shape)"
   ]
  },
  {
   "cell_type": "code",
   "execution_count": 7,
   "metadata": {},
   "outputs": [
    {
     "data": {
      "text/plain": [
       "(28, 28, 1)"
      ]
     },
     "execution_count": 7,
     "metadata": {},
     "output_type": "execute_result"
    }
   ],
   "source": [
    "# number of classes\n",
    "x_train[0].shape"
   ]
  },
  {
   "cell_type": "code",
   "execution_count": 8,
   "metadata": {
    "scrolled": true
   },
   "outputs": [
    {
     "name": "stdout",
     "output_type": "stream",
     "text": [
      "Model: \"model\"\n",
      "_________________________________________________________________\n",
      "Layer (type)                 Output Shape              Param #   \n",
      "=================================================================\n",
      "input_1 (InputLayer)         [(None, 28, 28, 1)]       0         \n",
      "_________________________________________________________________\n",
      "conv2d (Conv2D)              (None, 13, 13, 32)        320       \n",
      "_________________________________________________________________\n",
      "conv2d_1 (Conv2D)            (None, 6, 6, 64)          18496     \n",
      "_________________________________________________________________\n",
      "conv2d_2 (Conv2D)            (None, 2, 2, 128)         73856     \n",
      "_________________________________________________________________\n",
      "flatten (Flatten)            (None, 512)               0         \n",
      "_________________________________________________________________\n",
      "dropout (Dropout)            (None, 512)               0         \n",
      "_________________________________________________________________\n",
      "dense (Dense)                (None, 512)               262656    \n",
      "_________________________________________________________________\n",
      "dense_1 (Dense)              (None, 10)                5130      \n",
      "=================================================================\n",
      "Total params: 360,458\n",
      "Trainable params: 360,458\n",
      "Non-trainable params: 0\n",
      "_________________________________________________________________\n"
     ]
    }
   ],
   "source": [
    "# Build the model using the functional API\n",
    "i = Input(shape= x_train[0].shape)\n",
    "x = Conv2D(32,(3,3), strides=2, activation='relu')(i) # \n",
    "# 64, 128 추가\n",
    "x = Conv2D(64,(3,3), strides=2, activation='relu')(x)\n",
    "x = Conv2D(128,(3,3), strides=2, activation='relu')(x)\n",
    "# Flatten()\n",
    "x = Flatten()(x)\n",
    "# Dropout()\n",
    "x = Dropout(0.2)(x)# 20% 데이터 제거하는 것\n",
    "# Dense() -> Softmax\n",
    "x = Dense(512,activation='relu')(x)\n",
    "\n",
    "x = Dense(10, activation='softmax')(x)\n",
    "\n",
    "model = Model(i,x)\n",
    "model.summary()"
   ]
  },
  {
   "cell_type": "code",
   "execution_count": 12,
   "metadata": {},
   "outputs": [
    {
     "name": "stdout",
     "output_type": "stream",
     "text": [
      "Train on 60000 samples, validate on 10000 samples\n",
      "Epoch 1/15\n",
      "60000/60000 [==============================] - 29s 485us/sample - loss: 0.5196 - accuracy: 0.8076 - val_loss: 0.3965 - val_accuracy: 0.8507\n",
      "Epoch 2/15\n",
      "60000/60000 [==============================] - 29s 477us/sample - loss: 0.3633 - accuracy: 0.8640 - val_loss: 0.3462 - val_accuracy: 0.8688\n",
      "Epoch 3/15\n",
      "60000/60000 [==============================] - 28s 469us/sample - loss: 0.3119 - accuracy: 0.8819 - val_loss: 0.3223 - val_accuracy: 0.8816\n",
      "Epoch 4/15\n",
      "60000/60000 [==============================] - 28s 464us/sample - loss: 0.2784 - accuracy: 0.8941 - val_loss: 0.3138 - val_accuracy: 0.8825\n",
      "Epoch 5/15\n",
      "60000/60000 [==============================] - 28s 474us/sample - loss: 0.2497 - accuracy: 0.9057 - val_loss: 0.3021 - val_accuracy: 0.8896\n",
      "Epoch 6/15\n",
      "60000/60000 [==============================] - 28s 460us/sample - loss: 0.2270 - accuracy: 0.9130 - val_loss: 0.3003 - val_accuracy: 0.8948\n",
      "Epoch 7/15\n",
      "60000/60000 [==============================] - 28s 462us/sample - loss: 0.2059 - accuracy: 0.9208 - val_loss: 0.2981 - val_accuracy: 0.8972\n",
      "Epoch 8/15\n",
      "60000/60000 [==============================] - 29s 485us/sample - loss: 0.1882 - accuracy: 0.9270 - val_loss: 0.2977 - val_accuracy: 0.9007\n",
      "Epoch 9/15\n",
      "60000/60000 [==============================] - 29s 483us/sample - loss: 0.1763 - accuracy: 0.9321 - val_loss: 0.3047 - val_accuracy: 0.9020\n",
      "Epoch 10/15\n",
      "60000/60000 [==============================] - 32s 528us/sample - loss: 0.1599 - accuracy: 0.9386 - val_loss: 0.3289 - val_accuracy: 0.8979\n",
      "Epoch 11/15\n",
      "60000/60000 [==============================] - 32s 540us/sample - loss: 0.1487 - accuracy: 0.9429 - val_loss: 0.3335 - val_accuracy: 0.9001\n",
      "Epoch 12/15\n",
      "60000/60000 [==============================] - 34s 559us/sample - loss: 0.1373 - accuracy: 0.9467 - val_loss: 0.3206 - val_accuracy: 0.9010\n",
      "Epoch 13/15\n",
      "60000/60000 [==============================] - 29s 483us/sample - loss: 0.1299 - accuracy: 0.9506 - val_loss: 0.3439 - val_accuracy: 0.8976\n",
      "Epoch 14/15\n",
      "60000/60000 [==============================] - 29s 481us/sample - loss: 0.1208 - accuracy: 0.9538 - val_loss: 0.3523 - val_accuracy: 0.8994\n",
      "Epoch 15/15\n",
      "60000/60000 [==============================] - 28s 467us/sample - loss: 0.1129 - accuracy: 0.9573 - val_loss: 0.3664 - val_accuracy: 0.8984\n"
     ]
    },
    {
     "data": {
      "text/plain": [
       "<tensorflow.python.keras.callbacks.History at 0x148400b91c8>"
      ]
     },
     "execution_count": 12,
     "metadata": {},
     "output_type": "execute_result"
    }
   ],
   "source": [
    "# optimizaer(adam), loss= categorical_crossentropy, metrics= accuracy\n",
    "\n",
    "\n",
    "model.compile(optimizer='adam',loss='sparse_categorical_crossentropy',metrics=['accuracy'])#실수, 정수 호환때문에 sparse 붙이면됨!\n",
    "result = model.fit(x_train, y_train, validation_data=(x_test,y_test), epochs=15 )\n",
    "result"
   ]
  },
  {
   "cell_type": "code",
   "execution_count": 13,
   "metadata": {},
   "outputs": [
    {
     "data": {
      "text/plain": [
       "<matplotlib.legend.Legend at 0x14840818bc8>"
      ]
     },
     "execution_count": 13,
     "metadata": {},
     "output_type": "execute_result"
    },
    {
     "data": {
      "image/png": "[encoded data removed]",
      "text/plain": [
       "<Figure size 432x288 with 1 Axes>"
      ]
     },
     "metadata": {
      "needs_background": "light"
     },
     "output_type": "display_data"
    }
   ],
   "source": [
    "# Plot loss per iteration\n",
    "plt.plot(result.history['loss'], label='loss')\n",
    "plt.plot(result.history['val_loss'], label='val_loss')\n",
    "plt.legend()"
   ]
  },
  {
   "cell_type": "code",
   "execution_count": 41,
   "metadata": {},
   "outputs": [
    {
     "data": {
      "text/plain": [
       "<matplotlib.legend.Legend at 0x14841b47388>"
      ]
     },
     "execution_count": 41,
     "metadata": {},
     "output_type": "execute_result"
    },
    {
     "data": {
      "image/png": "[encoded data removed]",
      "text/plain": [
       "<Figure size 432x288 with 1 Axes>"
      ]
     },
     "metadata": {
      "needs_background": "light"
     },
     "output_type": "display_data"
    }
   ],
   "source": [
    "# Plot accuracy per iteration\n",
    "plt.plot(result.history['accuracy'], label='acc')\n",
    "plt.plot(result.history['val_accuracy'], label='val_acc')\n",
    "plt.legend()"
   ]
  },
  {
   "cell_type": "code",
   "execution_count": 17,
   "metadata": {},
   "outputs": [
    {
     "name": "stdout",
     "output_type": "stream",
     "text": [
      "Consusion matrix, without normalization\n",
      "[[899   0  20   9   1   1  63   0   7   0]\n",
      " [  5 980   0   9   2   0   3   0   1   0]\n",
      " [ 20   1 879  12  31   0  56   0   1   0]\n",
      " [ 20   6  21 907  24   1  20   0   1   0]\n",
      " [  4   1 108  32 798   0  55   0   2   0]\n",
      " [  1   0   0   0   0 969   0  18   3   9]\n",
      " [147   0  74  26  92   1 648   0  12   0]\n",
      " [  0   0   0   0   0  11   0 964   0  25]\n",
      " [  4   0   5   3   4   1   4   2 977   0]\n",
      " [  1   0   0   0   0   4   0  31   1 963]]\n"
     ]
    },
    {
     "data": {
      "image/png": "[encoded data removed]",
      "text/plain": [
       "<Figure size 432x288 with 2 Axes>"
      ]
     },
     "metadata": {
      "needs_background": "light"
     },
     "output_type": "display_data"
    }
   ],
   "source": [
    "from sklearn.metrics import confusion_matrix\n",
    "import itertools\n",
    "def plt_confusion_matrix(cm, classes, \n",
    "                          normalize=False, \n",
    "                          title='Confusion matrix',\n",
    "                          cmap=plt.cm.Blues):\n",
    "  \n",
    "#  This function prints and plots the confusion matrix.\n",
    "#  Normalization can be appled by setting `normalize=True`.\n",
    "\n",
    "  if normalize:\n",
    "    cm = cm.astype('float') / cm.sum(axis=1)[:, np.newaxis]\n",
    "    print('normalized confusion matrix')\n",
    "  else:\n",
    "    print('Consusion matrix, without normalization')\n",
    "  print(cm)\n",
    "\n",
    "  plt.imshow(cm, interpolation='nearest', cmap=cmap)\n",
    "  plt.title(title)\n",
    "  plt.colorbar()\n",
    "  tick_marks = np.arange(len(classes))\n",
    "  plt.xticks(tick_marks, classes, rotation=45)\n",
    "  plt.yticks(tick_marks, classes)\n",
    "\n",
    "  fmt = '.2f' if normalize else 'd'\n",
    "  thresh = cm.max() / 2.\n",
    "  for i, j in itertools.product(range(cm.shape[0]), range(cm.shape[1])):\n",
    "    plt.text(j, i, format(cm[i, j], fmt),\n",
    "             horizontalalignment=\"center\",\n",
    "             color=\"white\" if cm[i, j] > thresh else \"black\")\n",
    "  \n",
    "  plt.tight_layout()\n",
    "  plt.ylabel('True label')\n",
    "  plt.xlabel('Predicted label')\n",
    "  plt.show()\n",
    "\n",
    "p_test = model.predict(x_test).argmax(axis=1)\n",
    "cm = confusion_matrix(y_test, p_test)\n",
    "plt_confusion_matrix(cm, list(range(10)))\n"
   ]
  },
  {
   "cell_type": "code",
   "execution_count": 37,
   "metadata": {},
   "outputs": [
    {
     "name": "stdout",
     "output_type": "stream",
     "text": [
      "['T-shirt/top', 'Trouser/pants', 'Pullover_shirt', 'Dress', 'Coat', 'Sandal', 'Shirt', 'Sneaker', 'Bag', 'Ankle_boot']\n"
     ]
    }
   ],
   "source": [
    "# Label mapping\n",
    "labels = '''\n",
    "T-shirt/top\n",
    "Trouser/pants\n",
    "Pullover_shirt\n",
    "Dress\n",
    "Coat\n",
    "Sandal\n",
    "Shirt\n",
    "Sneaker\n",
    "Bag\n",
    "Ankle_boot'''.split()\n",
    "print(labels)"
   ]
  },
  {
   "cell_type": "code",
   "execution_count": 20,
   "metadata": {},
   "outputs": [
    {
     "name": "stdout",
     "output_type": "stream",
     "text": [
      "[  12   17   23 ... 9963 9972 9977]\n"
     ]
    }
   ],
   "source": [
    "# Show some misclassified examples\n",
    "misclassified_idx = np.where(p_test != y_test)[0] # test 값과 예측한 값이 일치하지 않는 index 저장\n",
    "print(misclassified_idx)"
   ]
  },
  {
   "cell_type": "code",
   "execution_count": 38,
   "metadata": {},
   "outputs": [
    {
     "name": "stdout",
     "output_type": "stream",
     "text": [
      "1235\n"
     ]
    }
   ],
   "source": [
    "# show image\n",
    "temp_idx = np.random.choice(misclassified_idx)\n",
    "print(temp_idx)"
   ]
  },
  {
   "cell_type": "code",
   "execution_count": 39,
   "metadata": {},
   "outputs": [
    {
     "data": {
      "text/plain": [
       "Text(0.5, 1.0, 'True label : Shirt, Predicted: T-shirt/top ')"
      ]
     },
     "execution_count": 39,
     "metadata": {},
     "output_type": "execute_result"
    },
    {
     "data": {
      "image/png": "[encoded data removed]",
      "text/plain": [
       "<Figure size 432x288 with 1 Axes>"
      ]
     },
     "metadata": {
      "needs_background": "light"
     },
     "output_type": "display_data"
    }
   ],
   "source": [
    "# x_test[temp_idx].shape # (28,281) 3차원이기 때문에 reshape 필요\n",
    "plt.imshow(x_test[temp_idx].reshape(28,28), cmap='gray')\n",
    "plt.title(\"True label : %s, Predicted: %s \"%(labels[y_test[temp_idx]], labels[p_test[temp_idx]]))"
   ]
  },
  {
   "cell_type": "code",
   "execution_count": null,
   "metadata": {},
   "outputs": [],
   "source": []
  }
 ],
 "metadata": {
  "kernelspec": {
   "display_name": "Python 3",
   "language": "python",
   "name": "python3"
  },
  "language_info": {
   "codemirror_mode": {
    "name": "ipython",
    "version": 3
   },
   "file_extension": ".py",
   "mimetype": "text/x-python",
   "name": "python",
   "nbconvert_exporter": "python",
   "pygments_lexer": "ipython3",
   "version": "3.7.6"
  }
 },
 "nbformat": 4,
 "nbformat_minor": 4
}
