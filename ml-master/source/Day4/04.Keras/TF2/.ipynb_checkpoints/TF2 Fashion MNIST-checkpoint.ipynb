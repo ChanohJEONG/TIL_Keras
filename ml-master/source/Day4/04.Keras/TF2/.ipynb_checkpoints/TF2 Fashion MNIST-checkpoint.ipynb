{
 "cells": [
  {
   "cell_type": "code",
   "execution_count": 1,
   "metadata": {},
   "outputs": [
    {
     "data": {
      "text/plain": [
       "'1.15.0'"
      ]
     },
     "execution_count": 1,
     "metadata": {},
     "output_type": "execute_result"
    }
   ],
   "source": [
    "import tensorflow as tf\n",
    "tf.__version__"
   ]
  },
  {
   "cell_type": "code",
   "execution_count": 2,
   "metadata": {},
   "outputs": [],
   "source": [
    "import numpy as np\n",
    "import matplotlib.pyplot as plt\n",
    "from tensorflow.keras.layers import Input, Conv2D, Dense, Flatten, Dropout\n",
    "from tensorflow.keras.models import Model"
   ]
  },
  {
   "cell_type": "code",
   "execution_count": 3,
   "metadata": {},
   "outputs": [
    {
     "name": "stdout",
     "output_type": "stream",
     "text": [
      "Downloading data from https://storage.googleapis.com/tensorflow/tf-keras-datasets/train-labels-idx1-ubyte.gz\n",
      "32768/29515 [=================================] - 0s 10us/step\n",
      "Downloading data from https://storage.googleapis.com/tensorflow/tf-keras-datasets/train-images-idx3-ubyte.gz\n",
      "26427392/26421880 [==============================] - 36s 1us/step\n",
      "Downloading data from https://storage.googleapis.com/tensorflow/tf-keras-datasets/t10k-labels-idx1-ubyte.gz\n",
      "8192/5148 [===============================================] - 0s 2us/step\n",
      "Downloading data from https://storage.googleapis.com/tensorflow/tf-keras-datasets/t10k-images-idx3-ubyte.gz\n",
      "4423680/4422102 [==============================] - 4s 1us/step\n",
      "x_train.shape: (60000, 28, 28)\n"
     ]
    }
   ],
   "source": [
    "# Load in the data\n",
    "fashion_mnist = tf.keras.datasets.fashion_mnist\n",
    "\n",
    "(x_train, y_train), (x_test, y_test) = fashion_mnist.load_data()\n",
    "x_train, x_test = x_train / 255.0, x_test / 255.0\n",
    "print(\"x_train.shape:\", x_train.shape)"
   ]
  },
  {
   "cell_type": "code",
   "execution_count": 4,
   "metadata": {},
   "outputs": [
    {
     "name": "stdout",
     "output_type": "stream",
     "text": [
      "(60000, 28, 28, 1)\n"
     ]
    }
   ],
   "source": [
    "# the data is only 2D\n",
    "# convolution expects height x width x color\n",
    "x_train = np.expand_dims(x_train, -1)\n",
    "x_test = np.expand_dims(x_test, -1)\n",
    "print(x_train.shape)"
   ]
  },
  {
   "cell_type": "code",
   "execution_count": 5,
   "metadata": {},
   "outputs": [
    {
     "name": "stdout",
     "output_type": "stream",
     "text": [
      "number of classes: 10\n"
     ]
    }
   ],
   "source": [
    "# number of classes\n",
    "K = len(set(y_train))\n",
    "print(\"number of classes:\", K)"
   ]
  },
  {
   "cell_type": "code",
   "execution_count": 8,
   "metadata": {},
   "outputs": [],
   "source": [
    "# Build the model using the functional API\n",
    "i = Input(shape=x_train[0].shape)\n",
    "x = Conv2D(32, (3, 3), strides=2, activation='relu')(i)\n",
    "x = Conv2D(64, (3, 3), strides=2, activation='relu')(x)\n",
    "x = Conv2D(128, (3, 3), strides=2, activation='relu')(x)\n",
    "x = Flatten()(x)\n",
    "x = Dropout(0.2)(x)\n",
    "x = Dense(512, activation='relu')(x)\n",
    "x = Dropout(0.2)(x)\n",
    "x = Dense(K, activation='softmax')(x)\n",
    "\n",
    "model = Model(i, x)"
   ]
  },
  {
   "cell_type": "code",
   "execution_count": 9,
   "metadata": {},
   "outputs": [
    {
     "name": "stdout",
     "output_type": "stream",
     "text": [
      "Train on 60000 samples, validate on 10000 samples\n",
      "Epoch 1/15\n",
      "60000/60000 [==============================] - 16s 263us/sample - loss: 0.5211 - acc: 0.8078 - val_loss: 0.3904 - val_acc: 0.8520\n",
      "Epoch 2/15\n",
      "60000/60000 [==============================] - 18s 294us/sample - loss: 0.3597 - acc: 0.8649 - val_loss: 0.3444 - val_acc: 0.8706\n",
      "Epoch 3/15\n",
      "60000/60000 [==============================] - 17s 289us/sample - loss: 0.3101 - acc: 0.8852 - val_loss: 0.3163 - val_acc: 0.8850\n",
      "Epoch 4/15\n",
      "60000/60000 [==============================] - 19s 315us/sample - loss: 0.2759 - acc: 0.8965 - val_loss: 0.3063 - val_acc: 0.8853\n",
      "Epoch 5/15\n",
      "60000/60000 [==============================] - 20s 336us/sample - loss: 0.2486 - acc: 0.9067 - val_loss: 0.2882 - val_acc: 0.8944\n",
      "Epoch 6/15\n",
      "60000/60000 [==============================] - 17s 288us/sample - loss: 0.2270 - acc: 0.9137 - val_loss: 0.2900 - val_acc: 0.8984\n",
      "Epoch 7/15\n",
      "60000/60000 [==============================] - 21s 343us/sample - loss: 0.2090 - acc: 0.9209 - val_loss: 0.2964 - val_acc: 0.8992\n",
      "Epoch 8/15\n",
      "60000/60000 [==============================] - 20s 326us/sample - loss: 0.1934 - acc: 0.9258 - val_loss: 0.3077 - val_acc: 0.8973\n",
      "Epoch 9/15\n",
      "60000/60000 [==============================] - 18s 304us/sample - loss: 0.1774 - acc: 0.9315 - val_loss: 0.3075 - val_acc: 0.8988\n",
      "Epoch 10/15\n",
      "60000/60000 [==============================] - 19s 318us/sample - loss: 0.1668 - acc: 0.9356 - val_loss: 0.3244 - val_acc: 0.8988\n",
      "Epoch 11/15\n",
      "60000/60000 [==============================] - 20s 327us/sample - loss: 0.1536 - acc: 0.9417 - val_loss: 0.3381 - val_acc: 0.8952\n",
      "Epoch 12/15\n",
      "60000/60000 [==============================] - 20s 336us/sample - loss: 0.1446 - acc: 0.9454 - val_loss: 0.3263 - val_acc: 0.8990\n",
      "Epoch 13/15\n",
      "60000/60000 [==============================] - 20s 330us/sample - loss: 0.1376 - acc: 0.9480 - val_loss: 0.3273 - val_acc: 0.8972\n",
      "Epoch 14/15\n",
      "60000/60000 [==============================] - 20s 339us/sample - loss: 0.1276 - acc: 0.9511 - val_loss: 0.3492 - val_acc: 0.9046\n",
      "Epoch 15/15\n",
      "60000/60000 [==============================] - 20s 333us/sample - loss: 0.1220 - acc: 0.9525 - val_loss: 0.3673 - val_acc: 0.9011\n"
     ]
    }
   ],
   "source": [
    "model.compile(optimizer='adam', loss='sparse_categorical_crossentropy', metrics=['accuracy'])\n",
    "r = model.fit(x_train, y_train, validation_data=(x_test, y_test), epochs=15)"
   ]
  },
  {
   "cell_type": "code",
   "execution_count": 10,
   "metadata": {},
   "outputs": [
    {
     "data": {
      "text/plain": [
       "<matplotlib.legend.Legend at 0x660a02470>"
      ]
     },
     "execution_count": 10,
     "metadata": {},
     "output_type": "execute_result"
    },
    {
     "data": {
      "image/png": "[encoded data removed]",
      "text/plain": [
       "<Figure size 432x288 with 1 Axes>"
      ]
     },
     "metadata": {
      "needs_background": "light"
     },
     "output_type": "display_data"
    }
   ],
   "source": [
    "# Plot loss per iteration\n",
    "import matplotlib.pyplot as plt\n",
    "plt.plot(r.history['loss'], label='loss')\n",
    "plt.plot(r.history['val_loss'], label='val_loss')\n",
    "plt.legend()"
   ]
  },
  {
   "cell_type": "code",
   "execution_count": 12,
   "metadata": {},
   "outputs": [
    {
     "ename": "KeyError",
     "evalue": "'val_accuracy'",
     "output_type": "error",
     "traceback": [
      "\u001b[0;31m---------------------------------------------------------------------------\u001b[0m",
      "\u001b[0;31mKeyError\u001b[0m                                  Traceback (most recent call last)",
      "\u001b[0;32m<ipython-input-12-322de165e261>\u001b[0m in \u001b[0;36m<module>\u001b[0;34m\u001b[0m\n\u001b[1;32m      2\u001b[0m \u001b[0;32mimport\u001b[0m \u001b[0mmatplotlib\u001b[0m\u001b[0;34m.\u001b[0m\u001b[0mpyplot\u001b[0m \u001b[0;32mas\u001b[0m \u001b[0mplt\u001b[0m\u001b[0;34m\u001b[0m\u001b[0;34m\u001b[0m\u001b[0m\n\u001b[1;32m      3\u001b[0m \u001b[0;31m#plt.plot(r.history['accuracy'], label='acc')\u001b[0m\u001b[0;34m\u001b[0m\u001b[0;34m\u001b[0m\u001b[0;34m\u001b[0m\u001b[0m\n\u001b[0;32m----> 4\u001b[0;31m \u001b[0mplt\u001b[0m\u001b[0;34m.\u001b[0m\u001b[0mplot\u001b[0m\u001b[0;34m(\u001b[0m\u001b[0mr\u001b[0m\u001b[0;34m.\u001b[0m\u001b[0mhistory\u001b[0m\u001b[0;34m[\u001b[0m\u001b[0;34m'val_accuracy'\u001b[0m\u001b[0;34m]\u001b[0m\u001b[0;34m,\u001b[0m \u001b[0mlabel\u001b[0m\u001b[0;34m=\u001b[0m\u001b[0;34m'val_acc'\u001b[0m\u001b[0;34m)\u001b[0m\u001b[0;34m\u001b[0m\u001b[0;34m\u001b[0m\u001b[0m\n\u001b[0m\u001b[1;32m      5\u001b[0m \u001b[0mplt\u001b[0m\u001b[0;34m.\u001b[0m\u001b[0mlegend\u001b[0m\u001b[0;34m(\u001b[0m\u001b[0;34m)\u001b[0m\u001b[0;34m\u001b[0m\u001b[0;34m\u001b[0m\u001b[0m\n",
      "\u001b[0;31mKeyError\u001b[0m: 'val_accuracy'"
     ]
    }
   ],
   "source": [
    "# Plot accuracy per iteration\n",
    "import matplotlib.pyplot as plt\n",
    "plt.plot(r.history['accuracy'], label='acc')\n",
    "plt.plot(r.history['val_accuracy'], label='val_acc')\n",
    "plt.legend()"
   ]
  },
  {
   "cell_type": "code",
   "execution_count": 14,
   "metadata": {},
   "outputs": [
    {
     "name": "stdout",
     "output_type": "stream",
     "text": [
      "Consusion matrix, without normalization\n",
      "[[856   3  23   9   2   1 100   0   6   0]\n",
      " [  3 977   2  11   2   0   4   0   1   0]\n",
      " [ 24   0 891   9  32   0  40   0   4   0]\n",
      " [ 18   3  23 898  31   1  26   0   0   0]\n",
      " [  0   2  95  22 833   1  45   0   2   0]\n",
      " [  0   0   0   1   0 975   0  16   1   7]\n",
      " [101   0  84  25 103   0 673   0  13   1]\n",
      " [  0   0   0   0   0  11   0 965   0  24]\n",
      " [  1   0   3   3   4   2   7   1 978   1]\n",
      " [  1   0   0   0   0   6   0  28   0 965]]\n"
     ]
    },
    {
     "data": {
      "image/png": "[encoded data removed]",
      "text/plain": [
       "<Figure size 432x288 with 2 Axes>"
      ]
     },
     "metadata": {
      "needs_background": "light"
     },
     "output_type": "display_data"
    }
   ],
   "source": [
    "from sklearn.metrics import confusion_matrix\n",
    "import itertools\n",
    "def plt_confusion_matrix(cm, classes, \n",
    "                          normalize=False, \n",
    "                          title='Confusion matrix',\n",
    "                          cmap=plt.cm.Blues):\n",
    "  \"\"\"\n",
    "  This function prints and plots the confusion matrix.\n",
    "  Normalization can be appled by setting `normalize=True`.\n",
    "  \"\"\"\n",
    "  if normalize:\n",
    "    cm = cm.astype('float') / cm.sum(axis=1)[:, np.newaxis]\n",
    "    print(\"normalized confusion matrix\")\n",
    "  else:\n",
    "    print('Consusion matrix, without normalization')\n",
    "  print(cm)\n",
    "\n",
    "  plt.imshow(cm, interpolation='nearest', cmap=cmap)\n",
    "  plt.title(title)\n",
    "  plt.colorbar()\n",
    "  tick_marks = np.arange(len(classes))\n",
    "  plt.xticks(tick_marks, classes, rotation=45)\n",
    "  plt.yticks(tick_marks, classes)\n",
    "\n",
    "  fmt = '.2f' if normalize else 'd'\n",
    "  thresh = cm.max() / 2.\n",
    "  for i, j in itertools.product(range(cm.shape[0]), range(cm.shape[1])):\n",
    "    plt.text(j, i, format(cm[i, j], fmt),\n",
    "             horizontalalignment=\"center\",\n",
    "             color=\"white\" if cm[i, j] > thresh else \"black\")\n",
    "  \n",
    "  plt.tight_layout()\n",
    "  plt.ylabel('True label')\n",
    "  plt.xlabel('Predicted label')\n",
    "  plt.show()\n",
    "\n",
    "p_test = model.predict(x_test).argmax(axis=1)\n",
    "cm = confusion_matrix(y_test, p_test)\n",
    "plt_confusion_matrix(cm, list(range(10)))\n"
   ]
  },
  {
   "cell_type": "code",
   "execution_count": 15,
   "metadata": {},
   "outputs": [],
   "source": [
    "# Label mapping\n",
    "labels = '''T-shirt/top\n",
    "Trouser\n",
    "Pullover\n",
    "Dress\n",
    "Coat\n",
    "Sandal\n",
    "Shirt\n",
    "Sneaker\n",
    "Bag\n",
    "Ankle boot'''.split()"
   ]
  },
  {
   "cell_type": "code",
   "execution_count": 16,
   "metadata": {},
   "outputs": [
    {
     "data": {
      "text/plain": [
       "Text(0.5, 1.0, 'True label: Pullover, Predicted: Shirt')"
      ]
     },
     "execution_count": 16,
     "metadata": {},
     "output_type": "execute_result"
    },
    {
     "data": {
      "image/png": "[encoded data removed]",
      "text/plain": [
       "<Figure size 432x288 with 1 Axes>"
      ]
     },
     "metadata": {
      "needs_background": "light"
     },
     "output_type": "display_data"
    }
   ],
   "source": [
    "# Show some misclassified examples\n",
    "misclassified_idx = np.where(p_test != y_test)[0]\n",
    "i = np.random.choice(misclassified_idx)\n",
    "plt.imshow(x_test[i].reshape(28, 28), cmap='gray')\n",
    "plt.title(\"True label: %s, Predicted: %s\" % (labels[y_test[i]], labels[p_test[i]]))"
   ]
  },
  {
   "cell_type": "code",
   "execution_count": null,
   "metadata": {},
   "outputs": [],
   "source": []
  }
 ],
 "metadata": {
  "kernelspec": {
   "display_name": "Python 3",
   "language": "python",
   "name": "python3"
  },
  "language_info": {
   "codemirror_mode": {
    "name": "ipython",
    "version": 3
   },
   "file_extension": ".py",
   "mimetype": "text/x-python",
   "name": "python",
   "nbconvert_exporter": "python",
   "pygments_lexer": "ipython3",
   "version": "3.7.3"
  }
 },
 "nbformat": 4,
 "nbformat_minor": 4
}
