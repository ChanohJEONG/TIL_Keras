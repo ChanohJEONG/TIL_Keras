{
 "cells": [
  {
   "cell_type": "code",
   "execution_count": 1,
   "metadata": {},
   "outputs": [
    {
     "name": "stdout",
     "output_type": "stream",
     "text": [
      "[[0, 0], [1, 0], [0, 1], [1, 1]] 의 예측 결과:  [0 0 0 1]\n",
      "정답률 =  1.0\n"
     ]
    }
   ],
   "source": [
    "# 라이브러리 읽어 들이기 --- (*1)\n",
    "from sklearn.svm import LinearSVC\n",
    "from sklearn.metrics import accuracy_score\n",
    "\n",
    "# 학습 전용 데이터와 결과 준비하기 --- (*2)\n",
    "# X , Y\n",
    "learn_data = [[0,0], [1,0], [0,1], [1,1]]\n",
    "# X and Y\n",
    "learn_label = [0, 0, 0, 1]\n",
    "\n",
    "# 알고리즘 지정하기(LinierSVC) --- (*3)\n",
    "clf = LinearSVC()\n",
    "\n",
    "# 학습전용 데이터와 결과 학습하기  --- (*4)\n",
    "clf.fit(learn_data, learn_label)\n",
    "\n",
    "# 테스트 데이터로 예측하기 --- (*5)\n",
    "test_data = [[0,0], [1,0], [0,1], [1,1]]\n",
    "test_label = clf.predict(test_data)\n",
    "\n",
    "# 예측 결과 평가하기 --- (*6)\n",
    "print(test_data , \"의 예측 결과: \" ,  test_label)\n",
    "print(\"정답률 = \" , accuracy_score([0, 0, 0, 1], test_label))"
   ]
  },
  {
   "cell_type": "code",
   "execution_count": 7,
   "metadata": {},
   "outputs": [
    {
     "name": "stdout",
     "output_type": "stream",
     "text": [
      "[[0, 0], [1, 0], [0, 1], [1, 1]] 의 예측 결과:  [1 0 1 1]\n",
      "정답률 =  0.25\n"
     ]
    }
   ],
   "source": [
    "# 학습 전용 데이터와 결과 준비하기\n",
    "# X , Y\n",
    "learn_data = [[0,0], [1,0], [0,1], [1,1]]\n",
    "# X xor Y\n",
    "learn_label = [0, 1, 1, 0]  #(*) xor 전용 레이블로 변경\n",
    "\n",
    "# 알고리즘 지정하기(LinierSVC)\n",
    "clf = LinearSVC()\n",
    "\n",
    "# 학습전용 데이터와 결과 학습하기 \n",
    "clf.fit(learn_data, learn_label)\n",
    "\n",
    "# 테스트 데이터로 예측하기\n",
    "test_data = [[0,0], [1,0], [0,1], [1,1]]\n",
    "test_label = clf.predict(test_data)\n",
    "\n",
    "# 테스트 결과 평가하기\n",
    "print(test_data , \"의 예측 결과: \" ,  test_label)\n",
    "print(\"정답률 = \" , accuracy_score([0, 1, 1, 0], test_label))  #(*) xor 전용 레이블로 변경"
   ]
  },
  {
   "cell_type": "code",
   "execution_count": 9,
   "metadata": {},
   "outputs": [
    {
     "name": "stdout",
     "output_type": "stream",
     "text": [
      "[[0, 0], [1, 0], [0, 1], [1, 1]] 의 예측 결과:  [0 1 1 0]\n",
      "정답률 =  1.0\n"
     ]
    }
   ],
   "source": [
    "from sklearn.neighbors import KNeighborsClassifier\n",
    "\n",
    "# 알고리즘 지정하기(KNeighborsClassifier) --- (*2)\n",
    "clf = KNeighborsClassifier(n_neighbors = 1)\n",
    "\n",
    "# 학습전용 데이터와 결과 학습하기 \n",
    "clf.fit(learn_data, learn_label)\n",
    "\n",
    "# 테스트 데이터로 예측하기\n",
    "test_data = [[0,0], [1,0], [0,1], [1,1]]\n",
    "test_label = clf.predict(test_data)\n",
    "\n",
    "# 테스트 결과 평가하기\n",
    "print(test_data , \"의 예측 결과: \" ,  test_label)\n",
    "print(\"정답률 = \" , accuracy_score([0, 1, 1, 0], test_label))  #(*) xor 전용 레이블로 변경"
   ]
  },
  {
   "cell_type": "code",
   "execution_count": null,
   "metadata": {},
   "outputs": [],
   "source": []
  }
 ],
 "metadata": {
  "kernelspec": {
   "display_name": "Python 3",
   "language": "python",
   "name": "python3"
  },
  "language_info": {
   "codemirror_mode": {
    "name": "ipython",
    "version": 3
   },
   "file_extension": ".py",
   "mimetype": "text/x-python",
   "name": "python",
   "nbconvert_exporter": "python",
   "pygments_lexer": "ipython3",
   "version": "3.7.3"
  }
 },
 "nbformat": 4,
 "nbformat_minor": 2
}
