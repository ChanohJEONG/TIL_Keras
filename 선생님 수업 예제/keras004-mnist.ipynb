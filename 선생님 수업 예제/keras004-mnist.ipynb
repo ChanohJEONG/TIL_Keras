{
 "cells": [
  {
   "cell_type": "markdown",
   "metadata": {
    "colab_type": "text",
    "id": "MnzCRlUxUysg"
   },
   "source": [
    "# MNIST Test\n",
    "\n",
    "이번 실습에서는 MNIST data로 MLP model을 학습한 뒤, 직접 손으로 쓴 글씨를 입력하여 제대로 분류가 되는지를 확인해보겠습니다."
   ]
  },
  {
   "cell_type": "code",
   "execution_count": 1,
   "metadata": {
    "colab": {
     "base_uri": "https://localhost:8080/",
     "height": 34
    },
    "colab_type": "code",
    "executionInfo": {
     "elapsed": 923,
     "status": "ok",
     "timestamp": 1585035371049,
     "user": {
      "displayName": "하성호",
      "photoUrl": "https://lh3.googleusercontent.com/a-/AOh14GgGcP2YMEWbtWA_AV5fQJDoKChyppkB-OuMel_W=s64",
      "userId": "16376351765291824429"
     },
     "user_tz": -540
    },
    "id": "_CweL1g6Uysk",
    "outputId": "8a1aacbd-55b7-44bd-c4bf-115e1b23dd83"
   },
   "outputs": [],
   "source": [
    "## Google Colab에서 TensorFlow 2.x 버전을 사용하기 위해서는 아래 magic command를 수행하면 간편하게 할 수 있습니다\n",
    "\n",
    "try:\n",
    "  # %tensorflow_version only exists in Colab.\n",
    "  %tensorflow_version 2.x\n",
    "except Exception:\n",
    "  pass"
   ]
  },
  {
   "cell_type": "code",
   "execution_count": 2,
   "metadata": {
    "colab": {
     "base_uri": "https://localhost:8080/",
     "height": 52
    },
    "colab_type": "code",
    "executionInfo": {
     "elapsed": 2785,
     "status": "ok",
     "timestamp": 1585035372921,
     "user": {
      "displayName": "하성호",
      "photoUrl": "https://lh3.googleusercontent.com/a-/AOh14GgGcP2YMEWbtWA_AV5fQJDoKChyppkB-OuMel_W=s64",
      "userId": "16376351765291824429"
     },
     "user_tz": -540
    },
    "id": "B_OLmD3KUysn",
    "outputId": "28e5bc6c-5336-4bd1-b741-5bf8467e0d42"
   },
   "outputs": [
    {
     "name": "stdout",
     "output_type": "stream",
     "text": [
      "2.1.0\n",
      "2.2.4-tf\n"
     ]
    }
   ],
   "source": [
    "## 필요한 Library들을 import 합니다\n",
    "import numpy as np\n",
    "import matplotlib.pyplot as plt\n",
    "import tensorflow as tf\n",
    "from tensorflow import keras\n",
    "\n",
    "## TensorFlow, Keras version 확인\n",
    "print(tf.__version__)\n",
    "print(keras.__version__)"
   ]
  },
  {
   "cell_type": "code",
   "execution_count": 3,
   "metadata": {
    "colab": {},
    "colab_type": "code",
    "id": "MTmeu9TLUysr"
   },
   "outputs": [],
   "source": [
    "np.random.seed(777)\n",
    "tf.random.set_seed(777)"
   ]
  },
  {
   "cell_type": "markdown",
   "metadata": {
    "colab_type": "text",
    "id": "RJ_oEC8wUysu"
   },
   "source": [
    "## Coding Tips\n",
    "\n",
    "#### 1. Hyper Paramter 정하기\n",
    "#### 2. Data 준비(불러오기 or download 등)\n",
    "#### 3. Dataset 구성 (tf.data.Dataset 이용)\n",
    "#### 4. Modlel 만들기 (Neural Network model)\n",
    "#### 5. Loss function 정의, Optimizer 선택\n",
    "#### 6. Training (Train, Test function 만들기 포함)\n",
    "#### 7. Validation(or Test) 결과 확인"
   ]
  },
  {
   "cell_type": "code",
   "execution_count": 4,
   "metadata": {
    "colab": {},
    "colab_type": "code",
    "id": "tqcrEPMmbjhg"
   },
   "outputs": [],
   "source": [
    "## Hyper-parameters\n",
    "learning_rate = 0.001\n",
    "N_EPOCHS = 30\n",
    "N_BATCH = 100\n",
    "N_CLASS = 10"
   ]
  },
  {
   "cell_type": "code",
   "execution_count": 5,
   "metadata": {
    "colab": {},
    "colab_type": "code",
    "id": "LnMX4ZaMUysz"
   },
   "outputs": [],
   "source": [
    "## MNIST Dataset #########################################################\n",
    "mnist = keras.datasets.mnist\n",
    "class_names = ['0', '1', '2', '3', '4', '5', '6', '7', '8', '9']\n",
    "##########################################################################\n",
    "\n",
    "## Fashion MNIST Dataset #################################################\n",
    "#mnist = keras.datasets.fashion_mnist\n",
    "#class_names = ['T-shirt/top', 'Trouser', 'Pullover', 'Dress', 'Coat', 'Sandal', 'Shirt', 'Sneaker', 'Bag', 'Ankle boot']\n",
    "##########################################################################"
   ]
  },
  {
   "cell_type": "code",
   "execution_count": 6,
   "metadata": {
    "colab": {},
    "colab_type": "code",
    "id": "E0akilm0Uys3"
   },
   "outputs": [],
   "source": [
    "## MNIST dataset load\n",
    "(train_images, train_labels), (test_images, test_labels) = mnist.load_data() "
   ]
  },
  {
   "cell_type": "code",
   "execution_count": 7,
   "metadata": {
    "colab": {},
    "colab_type": "code",
    "id": "8-nU_KQHUys6"
   },
   "outputs": [],
   "source": [
    "N_TRAIN = train_images.shape[0]\n",
    "N_TEST = test_images.shape[0]"
   ]
  },
  {
   "cell_type": "code",
   "execution_count": 8,
   "metadata": {
    "colab": {},
    "colab_type": "code",
    "id": "rTN15qF8Uys9"
   },
   "outputs": [],
   "source": [
    "## image를 0~1사이 값으로 만들기 위하여 255로 나누어줌\n",
    "train_images = train_images.astype(np.float32) / 255.\n",
    "test_images = test_images.astype(np.float32) / 255.\n",
    "\n",
    "## one-hot encoding\n",
    "train_labels = keras.utils.to_categorical(train_labels, N_CLASS)\n",
    "test_labels = keras.utils.to_categorical(test_labels, N_CLASS)"
   ]
  },
  {
   "cell_type": "code",
   "execution_count": 9,
   "metadata": {
    "colab": {},
    "colab_type": "code",
    "id": "2cobgxbyUytA"
   },
   "outputs": [],
   "source": [
    "## dataset 구성    \n",
    "train_dataset = tf.data.Dataset.from_tensor_slices((train_images, train_labels)).shuffle(\n",
    "                buffer_size=100000).batch(N_BATCH).repeat()\n",
    "test_dataset = tf.data.Dataset.from_tensor_slices((test_images, test_labels)).batch(N_BATCH)"
   ]
  },
  {
   "cell_type": "code",
   "execution_count": 10,
   "metadata": {
    "colab": {},
    "colab_type": "code",
    "id": "SvlGgof9boh4"
   },
   "outputs": [],
   "source": [
    "def create_model():\n",
    "    model = keras.Sequential()\n",
    "    model.add(keras.layers.Flatten(input_shape=(28,28)))\n",
    "    model.add(keras.layers.Dense(256))\n",
    "    model.add(keras.layers.BatchNormalization())\n",
    "    model.add(keras.layers.ReLU())\n",
    "    model.add(keras.layers.Dense(256))\n",
    "    model.add(keras.layers.BatchNormalization())\n",
    "    model.add(keras.layers.ReLU())\n",
    "    model.add(keras.layers.Dense(128))\n",
    "    model.add(keras.layers.BatchNormalization())\n",
    "    model.add(keras.layers.ReLU())\n",
    "    model.add(keras.layers.Dense(128))\n",
    "    model.add(keras.layers.BatchNormalization())\n",
    "    model.add(keras.layers.ReLU())\n",
    "    model.add(keras.layers.Dense(10))\n",
    "    model.add(keras.layers.BatchNormalization())\n",
    "    model.add(keras.layers.Softmax())\n",
    "    return model"
   ]
  },
  {
   "cell_type": "code",
   "execution_count": 11,
   "metadata": {
    "colab": {},
    "colab_type": "code",
    "id": "qe-GjpWWbpjH"
   },
   "outputs": [],
   "source": [
    "model = create_model()"
   ]
  },
  {
   "cell_type": "code",
   "execution_count": 12,
   "metadata": {
    "colab": {
     "base_uri": "https://localhost:8080/",
     "height": 34
    },
    "colab_type": "code",
    "executionInfo": {
     "elapsed": 1488,
     "status": "ok",
     "timestamp": 1585035374172,
     "user": {
      "displayName": "하성호",
      "photoUrl": "https://lh3.googleusercontent.com/a-/AOh14GgGcP2YMEWbtWA_AV5fQJDoKChyppkB-OuMel_W=s64",
      "userId": "16376351765291824429"
     },
     "user_tz": -540
    },
    "id": "O_89jj01cA2h",
    "outputId": "228487db-45aa-4d84-cbf4-29bf16791f3d"
   },
   "outputs": [
    {
     "name": "stdout",
     "output_type": "stream",
     "text": [
      "600 100\n"
     ]
    }
   ],
   "source": [
    "## Parameters for training\n",
    "steps_per_epoch = N_TRAIN//N_BATCH\n",
    "validation_steps = N_TEST//N_BATCH\n",
    "print(steps_per_epoch, validation_steps)"
   ]
  },
  {
   "cell_type": "code",
   "execution_count": 13,
   "metadata": {
    "colab": {},
    "colab_type": "code",
    "id": "Jcvvd40Wby8I"
   },
   "outputs": [],
   "source": [
    "## Learning rate decay\n",
    "lr_schedule = keras.optimizers.schedules.ExponentialDecay(initial_learning_rate=learning_rate,\n",
    "                                                          decay_steps=steps_per_epoch*10,\n",
    "                                                          decay_rate=0.3,\n",
    "                                                          staircase=True)"
   ]
  },
  {
   "cell_type": "code",
   "execution_count": 14,
   "metadata": {
    "colab": {
     "base_uri": "https://localhost:8080/",
     "height": 728
    },
    "colab_type": "code",
    "executionInfo": {
     "elapsed": 812,
     "status": "ok",
     "timestamp": 1585035374173,
     "user": {
      "displayName": "하성호",
      "photoUrl": "https://lh3.googleusercontent.com/a-/AOh14GgGcP2YMEWbtWA_AV5fQJDoKChyppkB-OuMel_W=s64",
      "userId": "16376351765291824429"
     },
     "user_tz": -540
    },
    "id": "2STY-n0aUytG",
    "outputId": "3b356c5f-87ec-4313-8201-d61fd152e762"
   },
   "outputs": [
    {
     "name": "stdout",
     "output_type": "stream",
     "text": [
      "Model: \"sequential\"\n",
      "_________________________________________________________________\n",
      "Layer (type)                 Output Shape              Param #   \n",
      "=================================================================\n",
      "flatten (Flatten)            (None, 784)               0         \n",
      "_________________________________________________________________\n",
      "dense (Dense)                (None, 256)               200960    \n",
      "_________________________________________________________________\n",
      "batch_normalization (BatchNo (None, 256)               1024      \n",
      "_________________________________________________________________\n",
      "re_lu (ReLU)                 (None, 256)               0         \n",
      "_________________________________________________________________\n",
      "dense_1 (Dense)              (None, 256)               65792     \n",
      "_________________________________________________________________\n",
      "batch_normalization_1 (Batch (None, 256)               1024      \n",
      "_________________________________________________________________\n",
      "re_lu_1 (ReLU)               (None, 256)               0         \n",
      "_________________________________________________________________\n",
      "dense_2 (Dense)              (None, 128)               32896     \n",
      "_________________________________________________________________\n",
      "batch_normalization_2 (Batch (None, 128)               512       \n",
      "_________________________________________________________________\n",
      "re_lu_2 (ReLU)               (None, 128)               0         \n",
      "_________________________________________________________________\n",
      "dense_3 (Dense)              (None, 128)               16512     \n",
      "_________________________________________________________________\n",
      "batch_normalization_3 (Batch (None, 128)               512       \n",
      "_________________________________________________________________\n",
      "re_lu_3 (ReLU)               (None, 128)               0         \n",
      "_________________________________________________________________\n",
      "dense_4 (Dense)              (None, 10)                1290      \n",
      "_________________________________________________________________\n",
      "batch_normalization_4 (Batch (None, 10)                40        \n",
      "_________________________________________________________________\n",
      "softmax (Softmax)            (None, 10)                0         \n",
      "=================================================================\n",
      "Total params: 320,562\n",
      "Trainable params: 319,006\n",
      "Non-trainable params: 1,556\n",
      "_________________________________________________________________\n"
     ]
    }
   ],
   "source": [
    "## Create model, compile & summary\n",
    "model.compile(optimizer=tf.keras.optimizers.Adam(lr_schedule),\n",
    "              loss='categorical_crossentropy',\n",
    "              metrics=['accuracy'])\n",
    "model.summary()"
   ]
  },
  {
   "cell_type": "code",
   "execution_count": 15,
   "metadata": {
    "colab": {
     "base_uri": "https://localhost:8080/",
     "height": 1000
    },
    "colab_type": "code",
    "executionInfo": {
     "elapsed": 115072,
     "status": "ok",
     "timestamp": 1585035488776,
     "user": {
      "displayName": "하성호",
      "photoUrl": "https://lh3.googleusercontent.com/a-/AOh14GgGcP2YMEWbtWA_AV5fQJDoKChyppkB-OuMel_W=s64",
      "userId": "16376351765291824429"
     },
     "user_tz": -540
    },
    "id": "qorvRydSUytL",
    "outputId": "d36e9247-0313-4d90-8b1b-3e7b44652e5c"
   },
   "outputs": [
    {
     "name": "stdout",
     "output_type": "stream",
     "text": [
      "Train for 600 steps, validate for 100 steps\n",
      "Epoch 1/30\n",
      "600/600 [==============================] - 9s 15ms/step - loss: 0.3844 - accuracy: 0.9371 - val_loss: 0.1836 - val_accuracy: 0.9717\n",
      "Epoch 2/30\n",
      "600/600 [==============================] - 6s 9ms/step - loss: 0.1612 - accuracy: 0.9729 - val_loss: 0.1167 - val_accuracy: 0.9760\n",
      "Epoch 3/30\n",
      "600/600 [==============================] - 6s 10ms/step - loss: 0.1033 - accuracy: 0.9800 - val_loss: 0.1068 - val_accuracy: 0.9737\n",
      "Epoch 4/30\n",
      "600/600 [==============================] - 6s 10ms/step - loss: 0.0769 - accuracy: 0.9834 - val_loss: 0.0815 - val_accuracy: 0.9776\n",
      "Epoch 5/30\n",
      "600/600 [==============================] - 6s 10ms/step - loss: 0.0602 - accuracy: 0.9864 - val_loss: 0.0734 - val_accuracy: 0.9801\n",
      "Epoch 6/30\n",
      "600/600 [==============================] - 6s 10ms/step - loss: 0.0443 - accuracy: 0.9899 - val_loss: 0.0671 - val_accuracy: 0.9814\n",
      "Epoch 7/30\n",
      "600/600 [==============================] - 6s 11ms/step - loss: 0.0395 - accuracy: 0.9904 - val_loss: 0.0753 - val_accuracy: 0.9794\n",
      "Epoch 8/30\n",
      "600/600 [==============================] - 6s 10ms/step - loss: 0.0331 - accuracy: 0.9914 - val_loss: 0.0699 - val_accuracy: 0.9804\n",
      "Epoch 9/30\n",
      "600/600 [==============================] - 7s 11ms/step - loss: 0.0296 - accuracy: 0.9922 - val_loss: 0.0667 - val_accuracy: 0.9809\n",
      "Epoch 10/30\n",
      "600/600 [==============================] - 6s 10ms/step - loss: 0.0244 - accuracy: 0.9936 - val_loss: 0.0655 - val_accuracy: 0.9820\n",
      "Epoch 11/30\n",
      "600/600 [==============================] - 7s 11ms/step - loss: 0.0120 - accuracy: 0.9973 - val_loss: 0.0482 - val_accuracy: 0.9861\n",
      "Epoch 12/30\n",
      "600/600 [==============================] - 6s 10ms/step - loss: 0.0078 - accuracy: 0.9987 - val_loss: 0.0470 - val_accuracy: 0.9869\n",
      "Epoch 13/30\n",
      "600/600 [==============================] - 6s 9ms/step - loss: 0.0067 - accuracy: 0.9990 - val_loss: 0.0481 - val_accuracy: 0.9860\n",
      "Epoch 14/30\n",
      "600/600 [==============================] - 6s 9ms/step - loss: 0.0060 - accuracy: 0.9990 - val_loss: 0.0503 - val_accuracy: 0.9856\n",
      "Epoch 15/30\n",
      "600/600 [==============================] - 6s 10ms/step - loss: 0.0063 - accuracy: 0.9988 - val_loss: 0.0595 - val_accuracy: 0.9842\n",
      "Epoch 16/30\n",
      "600/600 [==============================] - 6s 11ms/step - loss: 0.0047 - accuracy: 0.9992 - val_loss: 0.0510 - val_accuracy: 0.9859\n",
      "Epoch 17/30\n",
      "600/600 [==============================] - 7s 11ms/step - loss: 0.0043 - accuracy: 0.9993 - val_loss: 0.0520 - val_accuracy: 0.9861\n",
      "Epoch 18/30\n",
      "600/600 [==============================] - 7s 11ms/step - loss: 0.0039 - accuracy: 0.9994 - val_loss: 0.0534 - val_accuracy: 0.9853\n",
      "Epoch 19/30\n",
      "600/600 [==============================] - 6s 10ms/step - loss: 0.0048 - accuracy: 0.9990 - val_loss: 0.0527 - val_accuracy: 0.9865\n",
      "Epoch 20/30\n",
      "600/600 [==============================] - 6s 10ms/step - loss: 0.0042 - accuracy: 0.9991 - val_loss: 0.0552 - val_accuracy: 0.9854\n",
      "Epoch 21/30\n",
      "600/600 [==============================] - 6s 10ms/step - loss: 0.0025 - accuracy: 0.9996 - val_loss: 0.0525 - val_accuracy: 0.9862\n",
      "Epoch 22/30\n",
      "600/600 [==============================] - 6s 10ms/step - loss: 0.0021 - accuracy: 0.9998 - val_loss: 0.0519 - val_accuracy: 0.9849\n",
      "Epoch 23/30\n",
      "600/600 [==============================] - 6s 10ms/step - loss: 0.0020 - accuracy: 0.9998 - val_loss: 0.0515 - val_accuracy: 0.9863\n",
      "Epoch 24/30\n",
      "600/600 [==============================] - 6s 10ms/step - loss: 0.0016 - accuracy: 0.9999 - val_loss: 0.0515 - val_accuracy: 0.9861\n",
      "Epoch 25/30\n",
      "600/600 [==============================] - 6s 10ms/step - loss: 0.0019 - accuracy: 0.9998 - val_loss: 0.0541 - val_accuracy: 0.9857\n",
      "Epoch 26/30\n",
      "600/600 [==============================] - 6s 10ms/step - loss: 0.0016 - accuracy: 0.9999 - val_loss: 0.0498 - val_accuracy: 0.9863\n",
      "Epoch 27/30\n",
      "600/600 [==============================] - 6s 10ms/step - loss: 0.0016 - accuracy: 0.9998 - val_loss: 0.0498 - val_accuracy: 0.9868\n",
      "Epoch 28/30\n",
      "600/600 [==============================] - 6s 10ms/step - loss: 0.0014 - accuracy: 0.9999 - val_loss: 0.0495 - val_accuracy: 0.9868\n",
      "Epoch 29/30\n",
      "600/600 [==============================] - 6s 10ms/step - loss: 0.0014 - accuracy: 0.9999 - val_loss: 0.0516 - val_accuracy: 0.9869\n",
      "Epoch 30/30\n",
      "600/600 [==============================] - 6s 10ms/step - loss: 0.0013 - accuracy: 0.9999 - val_loss: 0.0497 - val_accuracy: 0.9870\n"
     ]
    }
   ],
   "source": [
    "## Training\n",
    "history = model.fit(train_dataset, epochs=N_EPOCHS, steps_per_epoch=steps_per_epoch, \n",
    "                    validation_data=test_dataset, validation_steps=validation_steps)"
   ]
  },
  {
   "cell_type": "code",
   "execution_count": 18,
   "metadata": {
    "colab": {},
    "colab_type": "code",
    "id": "EFMo-ZmVcOQo"
   },
   "outputs": [],
   "source": [
    "## 추가 library import\n",
    "import os\n",
    "from PIL import Image"
   ]
  },
  {
   "cell_type": "code",
   "execution_count": 19,
   "metadata": {
    "colab": {
     "base_uri": "https://localhost:8080/",
     "height": 42,
     "resources": {
      "http://localhost:8080/nbextensions/google.colab/files.js": {
       "data": "Ly8gQ29weXJpZ2h0IDIwMTcgR29vZ2xlIExMQwovLwovLyBMaWNlbnNlZCB1bmRlciB0aGUgQXBhY2hlIExpY2Vuc2UsIFZlcnNpb24gMi4wICh0aGUgIkxpY2Vuc2UiKTsKLy8geW91IG1heSBub3QgdXNlIHRoaXMgZmlsZSBleGNlcHQgaW4gY29tcGxpYW5jZSB3aXRoIHRoZSBMaWNlbnNlLgovLyBZb3UgbWF5IG9idGFpbiBhIGNvcHkgb2YgdGhlIExpY2Vuc2UgYXQKLy8KLy8gICAgICBodHRwOi8vd3d3LmFwYWNoZS5vcmcvbGljZW5zZXMvTElDRU5TRS0yLjAKLy8KLy8gVW5sZXNzIHJlcXVpcmVkIGJ5IGFwcGxpY2FibGUgbGF3IG9yIGFncmVlZCB0byBpbiB3cml0aW5nLCBzb2Z0d2FyZQovLyBkaXN0cmlidXRlZCB1bmRlciB0aGUgTGljZW5zZSBpcyBkaXN0cmlidXRlZCBvbiBhbiAiQVMgSVMiIEJBU0lTLAovLyBXSVRIT1VUIFdBUlJBTlRJRVMgT1IgQ09ORElUSU9OUyBPRiBBTlkgS0lORCwgZWl0aGVyIGV4cHJlc3Mgb3IgaW1wbGllZC4KLy8gU2VlIHRoZSBMaWNlbnNlIGZvciB0aGUgc3BlY2lmaWMgbGFuZ3VhZ2UgZ292ZXJuaW5nIHBlcm1pc3Npb25zIGFuZAovLyBsaW1pdGF0aW9ucyB1bmRlciB0aGUgTGljZW5zZS4KCi8qKgogKiBAZmlsZW92ZXJ2aWV3IEhlbHBlcnMgZm9yIGdvb2dsZS5jb2xhYiBQeXRob24gbW9kdWxlLgogKi8KKGZ1bmN0aW9uKHNjb3BlKSB7CmZ1bmN0aW9uIHNwYW4odGV4dCwgc3R5bGVBdHRyaWJ1dGVzID0ge30pIHsKICBjb25zdCBlbGVtZW50ID0gZG9jdW1lbnQuY3JlYXRlRWxlbWVudCgnc3BhbicpOwogIGVsZW1lbnQudGV4dENvbnRlbnQgPSB0ZXh0OwogIGZvciAoY29uc3Qga2V5IG9mIE9iamVjdC5rZXlzKHN0eWxlQXR0cmlidXRlcykpIHsKICAgIGVsZW1lbnQuc3R5bGVba2V5XSA9IHN0eWxlQXR0cmlidXRlc1trZXldOwogIH0KICByZXR1cm4gZWxlbWVudDsKfQoKLy8gTWF4IG51bWJlciBvZiBieXRlcyB3aGljaCB3aWxsIGJlIHVwbG9hZGVkIGF0IGEgdGltZS4KY29uc3QgTUFYX1BBWUxPQURfU0laRSA9IDEwMCAqIDEwMjQ7Ci8vIE1heCBhbW91bnQgb2YgdGltZSB0byBibG9jayB3YWl0aW5nIGZvciB0aGUgdXNlci4KY29uc3QgRklMRV9DSEFOR0VfVElNRU9VVF9NUyA9IDMwICogMTAwMDsKCmZ1bmN0aW9uIF91cGxvYWRGaWxlcyhpbnB1dElkLCBvdXRwdXRJZCkgewogIGNvbnN0IHN0ZXBzID0gdXBsb2FkRmlsZXNTdGVwKGlucHV0SWQsIG91dHB1dElkKTsKICBjb25zdCBvdXRwdXRFbGVtZW50ID0gZG9jdW1lbnQuZ2V0RWxlbWVudEJ5SWQob3V0cHV0SWQpOwogIC8vIENhY2hlIHN0ZXBzIG9uIHRoZSBvdXRwdXRFbGVtZW50IHRvIG1ha2UgaXQgYXZhaWxhYmxlIGZvciB0aGUgbmV4dCBjYWxsCiAgLy8gdG8gdXBsb2FkRmlsZXNDb250aW51ZSBmcm9tIFB5dGhvbi4KICBvdXRwdXRFbGVtZW50LnN0ZXBzID0gc3RlcHM7CgogIHJldHVybiBfdXBsb2FkRmlsZXNDb250aW51ZShvdXRwdXRJZCk7Cn0KCi8vIFRoaXMgaXMgcm91Z2hseSBhbiBhc3luYyBnZW5lcmF0b3IgKG5vdCBzdXBwb3J0ZWQgaW4gdGhlIGJyb3dzZXIgeWV0KSwKLy8gd2hlcmUgdGhlcmUgYXJlIG11bHRpcGxlIGFzeW5jaHJvbm91cyBzdGVwcyBhbmQgdGhlIFB5dGhvbiBzaWRlIGlzIGdvaW5nCi8vIHRvIHBvbGwgZm9yIGNvbXBsZXRpb24gb2YgZWFjaCBzdGVwLgovLyBUaGlzIHVzZXMgYSBQcm9taXNlIHRvIGJsb2NrIHRoZSBweXRob24gc2lkZSBvbiBjb21wbGV0aW9uIG9mIGVhY2ggc3RlcCwKLy8gdGhlbiBwYXNzZXMgdGhlIHJlc3VsdCBvZiB0aGUgcHJldmlvdXMgc3RlcCBhcyB0aGUgaW5wdXQgdG8gdGhlIG5leHQgc3RlcC4KZnVuY3Rpb24gX3VwbG9hZEZpbGVzQ29udGludWUob3V0cHV0SWQpIHsKICBjb25zdCBvdXRwdXRFbGVtZW50ID0gZG9jdW1lbnQuZ2V0RWxlbWVudEJ5SWQob3V0cHV0SWQpOwogIGNvbnN0IHN0ZXBzID0gb3V0cHV0RWxlbWVudC5zdGVwczsKCiAgY29uc3QgbmV4dCA9IHN0ZXBzLm5leHQob3V0cHV0RWxlbWVudC5sYXN0UHJvbWlzZVZhbHVlKTsKICByZXR1cm4gUHJvbWlzZS5yZXNvbHZlKG5leHQudmFsdWUucHJvbWlzZSkudGhlbigodmFsdWUpID0+IHsKICAgIC8vIENhY2hlIHRoZSBsYXN0IHByb21pc2UgdmFsdWUgdG8gbWFrZSBpdCBhdmFpbGFibGUgdG8gdGhlIG5leHQKICAgIC8vIHN0ZXAgb2YgdGhlIGdlbmVyYXRvci4KICAgIG91dHB1dEVsZW1lbnQubGFzdFByb21pc2VWYWx1ZSA9IHZhbHVlOwogICAgcmV0dXJuIG5leHQudmFsdWUucmVzcG9uc2U7CiAgfSk7Cn0KCi8qKgogKiBHZW5lcmF0b3IgZnVuY3Rpb24gd2hpY2ggaXMgY2FsbGVkIGJldHdlZW4gZWFjaCBhc3luYyBzdGVwIG9mIHRoZSB1cGxvYWQKICogcHJvY2Vzcy4KICogQHBhcmFtIHtzdHJpbmd9IGlucHV0SWQgRWxlbWVudCBJRCBvZiB0aGUgaW5wdXQgZmlsZSBwaWNrZXIgZWxlbWVudC4KICogQHBhcmFtIHtzdHJpbmd9IG91dHB1dElkIEVsZW1lbnQgSUQgb2YgdGhlIG91dHB1dCBkaXNwbGF5LgogKiBAcmV0dXJuIHshSXRlcmFibGU8IU9iamVjdD59IEl0ZXJhYmxlIG9mIG5leHQgc3RlcHMuCiAqLwpmdW5jdGlvbiogdXBsb2FkRmlsZXNTdGVwKGlucHV0SWQsIG91dHB1dElkKSB7CiAgY29uc3QgaW5wdXRFbGVtZW50ID0gZG9jdW1lbnQuZ2V0RWxlbWVudEJ5SWQoaW5wdXRJZCk7CiAgaW5wdXRFbGVtZW50LmRpc2FibGVkID0gZmFsc2U7CgogIGNvbnN0IG91dHB1dEVsZW1lbnQgPSBkb2N1bWVudC5nZXRFbGVtZW50QnlJZChvdXRwdXRJZCk7CiAgb3V0cHV0RWxlbWVudC5pbm5lckhUTUwgPSAnJzsKCiAgY29uc3QgcGlja2VkUHJvbWlzZSA9IG5ldyBQcm9taXNlKChyZXNvbHZlKSA9PiB7CiAgICBpbnB1dEVsZW1lbnQuYWRkRXZlbnRMaXN0ZW5lcignY2hhbmdlJywgKGUpID0+IHsKICAgICAgcmVzb2x2ZShlLnRhcmdldC5maWxlcyk7CiAgICB9KTsKICB9KTsKCiAgY29uc3QgY2FuY2VsID0gZG9jdW1lbnQuY3JlYXRlRWxlbWVudCgnYnV0dG9uJyk7CiAgaW5wdXRFbGVtZW50LnBhcmVudEVsZW1lbnQuYXBwZW5kQ2hpbGQoY2FuY2VsKTsKICBjYW5jZWwudGV4dENvbnRlbnQgPSAnQ2FuY2VsIHVwbG9hZCc7CiAgY29uc3QgY2FuY2VsUHJvbWlzZSA9IG5ldyBQcm9taXNlKChyZXNvbHZlKSA9PiB7CiAgICBjYW5jZWwub25jbGljayA9ICgpID0+IHsKICAgICAgcmVzb2x2ZShudWxsKTsKICAgIH07CiAgfSk7CgogIC8vIENhbmNlbCB1cGxvYWQgaWYgdXNlciBoYXNuJ3QgcGlja2VkIGFueXRoaW5nIGluIHRpbWVvdXQuCiAgY29uc3QgdGltZW91dFByb21pc2UgPSBuZXcgUHJvbWlzZSgocmVzb2x2ZSkgPT4gewogICAgc2V0VGltZW91dCgoKSA9PiB7CiAgICAgIHJlc29sdmUobnVsbCk7CiAgICB9LCBGSUxFX0NIQU5HRV9USU1FT1VUX01TKTsKICB9KTsKCiAgLy8gV2FpdCBmb3IgdGhlIHVzZXIgdG8gcGljayB0aGUgZmlsZXMuCiAgY29uc3QgZmlsZXMgPSB5aWVsZCB7CiAgICBwcm9taXNlOiBQcm9taXNlLnJhY2UoW3BpY2tlZFByb21pc2UsIHRpbWVvdXRQcm9taXNlLCBjYW5jZWxQcm9taXNlXSksCiAgICByZXNwb25zZTogewogICAgICBhY3Rpb246ICdzdGFydGluZycsCiAgICB9CiAgfTsKCiAgaWYgKCFmaWxlcykgewogICAgcmV0dXJuIHsKICAgICAgcmVzcG9uc2U6IHsKICAgICAgICBhY3Rpb246ICdjb21wbGV0ZScsCiAgICAgIH0KICAgIH07CiAgfQoKICBjYW5jZWwucmVtb3ZlKCk7CgogIC8vIERpc2FibGUgdGhlIGlucHV0IGVsZW1lbnQgc2luY2UgZnVydGhlciBwaWNrcyBhcmUgbm90IGFsbG93ZWQuCiAgaW5wdXRFbGVtZW50LmRpc2FibGVkID0gdHJ1ZTsKCiAgZm9yIChjb25zdCBmaWxlIG9mIGZpbGVzKSB7CiAgICBjb25zdCBsaSA9IGRvY3VtZW50LmNyZWF0ZUVsZW1lbnQoJ2xpJyk7CiAgICBsaS5hcHBlbmQoc3BhbihmaWxlLm5hbWUsIHtmb250V2VpZ2h0OiAnYm9sZCd9KSk7CiAgICBsaS5hcHBlbmQoc3BhbigKICAgICAgICBgKCR7ZmlsZS50eXBlIHx8ICduL2EnfSkgLSAke2ZpbGUuc2l6ZX0gYnl0ZXMsIGAgKwogICAgICAgIGBsYXN0IG1vZGlmaWVkOiAkewogICAgICAgICAgICBmaWxlLmxhc3RNb2RpZmllZERhdGUgPyBmaWxlLmxhc3RNb2RpZmllZERhdGUudG9Mb2NhbGVEYXRlU3RyaW5nKCkgOgogICAgICAgICAgICAgICAgICAgICAgICAgICAgICAgICAgICAnbi9hJ30gLSBgKSk7CiAgICBjb25zdCBwZXJjZW50ID0gc3BhbignMCUgZG9uZScpOwogICAgbGkuYXBwZW5kQ2hpbGQocGVyY2VudCk7CgogICAgb3V0cHV0RWxlbWVudC5hcHBlbmRDaGlsZChsaSk7CgogICAgY29uc3QgZmlsZURhdGFQcm9taXNlID0gbmV3IFByb21pc2UoKHJlc29sdmUpID0+IHsKICAgICAgY29uc3QgcmVhZGVyID0gbmV3IEZpbGVSZWFkZXIoKTsKICAgICAgcmVhZGVyLm9ubG9hZCA9IChlKSA9PiB7CiAgICAgICAgcmVzb2x2ZShlLnRhcmdldC5yZXN1bHQpOwogICAgICB9OwogICAgICByZWFkZXIucmVhZEFzQXJyYXlCdWZmZXIoZmlsZSk7CiAgICB9KTsKICAgIC8vIFdhaXQgZm9yIHRoZSBkYXRhIHRvIGJlIHJlYWR5LgogICAgbGV0IGZpbGVEYXRhID0geWllbGQgewogICAgICBwcm9taXNlOiBmaWxlRGF0YVByb21pc2UsCiAgICAgIHJlc3BvbnNlOiB7CiAgICAgICAgYWN0aW9uOiAnY29udGludWUnLAogICAgICB9CiAgICB9OwoKICAgIC8vIFVzZSBhIGNodW5rZWQgc2VuZGluZyB0byBhdm9pZCBtZXNzYWdlIHNpemUgbGltaXRzLiBTZWUgYi82MjExNTY2MC4KICAgIGxldCBwb3NpdGlvbiA9IDA7CiAgICB3aGlsZSAocG9zaXRpb24gPCBmaWxlRGF0YS5ieXRlTGVuZ3RoKSB7CiAgICAgIGNvbnN0IGxlbmd0aCA9IE1hdGgubWluKGZpbGVEYXRhLmJ5dGVMZW5ndGggLSBwb3NpdGlvbiwgTUFYX1BBWUxPQURfU0laRSk7CiAgICAgIGNvbnN0IGNodW5rID0gbmV3IFVpbnQ4QXJyYXkoZmlsZURhdGEsIHBvc2l0aW9uLCBsZW5ndGgpOwogICAgICBwb3NpdGlvbiArPSBsZW5ndGg7CgogICAgICBjb25zdCBiYXNlNjQgPSBidG9hKFN0cmluZy5mcm9tQ2hhckNvZGUuYXBwbHkobnVsbCwgY2h1bmspKTsKICAgICAgeWllbGQgewogICAgICAgIHJlc3BvbnNlOiB7CiAgICAgICAgICBhY3Rpb246ICdhcHBlbmQnLAogICAgICAgICAgZmlsZTogZmlsZS5uYW1lLAogICAgICAgICAgZGF0YTogYmFzZTY0LAogICAgICAgIH0sCiAgICAgIH07CiAgICAgIHBlcmNlbnQudGV4dENvbnRlbnQgPQogICAgICAgICAgYCR7TWF0aC5yb3VuZCgocG9zaXRpb24gLyBmaWxlRGF0YS5ieXRlTGVuZ3RoKSAqIDEwMCl9JSBkb25lYDsKICAgIH0KICB9CgogIC8vIEFsbCBkb25lLgogIHlpZWxkIHsKICAgIHJlc3BvbnNlOiB7CiAgICAgIGFjdGlvbjogJ2NvbXBsZXRlJywKICAgIH0KICB9Owp9CgpzY29wZS5nb29nbGUgPSBzY29wZS5nb29nbGUgfHwge307CnNjb3BlLmdvb2dsZS5jb2xhYiA9IHNjb3BlLmdvb2dsZS5jb2xhYiB8fCB7fTsKc2NvcGUuZ29vZ2xlLmNvbGFiLl9maWxlcyA9IHsKICBfdXBsb2FkRmlsZXMsCiAgX3VwbG9hZEZpbGVzQ29udGludWUsCn07Cn0pKHNlbGYpOwo=",
       "headers": [
        [
         "content-type",
         "application/javascript"
        ]
       ],
       "ok": true,
       "status": 200,
       "status_text": ""
      }
     }
    },
    "colab_type": "code",
    "executionInfo": {
     "elapsed": 36959,
     "status": "ok",
     "timestamp": 1585038114164,
     "user": {
      "displayName": "하성호",
      "photoUrl": "https://lh3.googleusercontent.com/a-/AOh14GgGcP2YMEWbtWA_AV5fQJDoKChyppkB-OuMel_W=s64",
      "userId": "16376351765291824429"
     },
     "user_tz": -540
    },
    "id": "PM14_Qz9c17m",
    "outputId": "5202cc58-2291-4b87-9936-93b831b20212"
   },
   "outputs": [
    {
     "ename": "ModuleNotFoundError",
     "evalue": "No module named 'google.colab'",
     "output_type": "error",
     "traceback": [
      "\u001b[1;31m---------------------------------------------------------------------------\u001b[0m",
      "\u001b[1;31mModuleNotFoundError\u001b[0m                       Traceback (most recent call last)",
      "\u001b[1;32m<ipython-input-19-4c9bb579520d>\u001b[0m in \u001b[0;36m<module>\u001b[1;34m\u001b[0m\n\u001b[0;32m      1\u001b[0m \u001b[1;31m## 그림판을 이용하여 손으로 숫자를 쓴 다음 파일로 저장하고 아래를 실행하여 upload 합니다\u001b[0m\u001b[1;33m\u001b[0m\u001b[1;33m\u001b[0m\u001b[1;33m\u001b[0m\u001b[0m\n\u001b[1;32m----> 2\u001b[1;33m \u001b[1;32mfrom\u001b[0m \u001b[0mgoogle\u001b[0m\u001b[1;33m.\u001b[0m\u001b[0mcolab\u001b[0m \u001b[1;32mimport\u001b[0m \u001b[0mfiles\u001b[0m\u001b[1;33m\u001b[0m\u001b[1;33m\u001b[0m\u001b[0m\n\u001b[0m\u001b[0;32m      3\u001b[0m \u001b[1;33m\u001b[0m\u001b[0m\n\u001b[0;32m      4\u001b[0m \u001b[0muploaded\u001b[0m \u001b[1;33m=\u001b[0m \u001b[0mfiles\u001b[0m\u001b[1;33m.\u001b[0m\u001b[0mupload\u001b[0m\u001b[1;33m(\u001b[0m\u001b[1;33m)\u001b[0m\u001b[1;33m\u001b[0m\u001b[1;33m\u001b[0m\u001b[0m\n\u001b[0;32m      5\u001b[0m \u001b[1;33m\u001b[0m\u001b[0m\n",
      "\u001b[1;31mModuleNotFoundError\u001b[0m: No module named 'google.colab'"
     ]
    }
   ],
   "source": [
    "## 그림판을 이용하여 손으로 숫자를 쓴 다음 파일로 저장하고 아래를 실행하여 upload 합니다\n",
    "from google.colab import files\n",
    "\n",
    "uploaded = files.upload()\n",
    "\n",
    "for fn in uploaded.keys():\n",
    "  print('User uploaded file \"{name}\" with length {length} bytes'.format(\n",
    "      name=fn, length=len(uploaded[fn])))"
   ]
  },
  {
   "cell_type": "code",
   "execution_count": 31,
   "metadata": {
    "colab": {
     "base_uri": "https://localhost:8080/",
     "height": 300
    },
    "colab_type": "code",
    "executionInfo": {
     "elapsed": 705,
     "status": "ok",
     "timestamp": 1585035792668,
     "user": {
      "displayName": "하성호",
      "photoUrl": "https://lh3.googleusercontent.com/a-/AOh14GgGcP2YMEWbtWA_AV5fQJDoKChyppkB-OuMel_W=s64",
      "userId": "16376351765291824429"
     },
     "user_tz": -540
    },
    "id": "rItfxZkzdGrX",
    "outputId": "457e5e80-ff97-4f38-9e32-fbb8192e8493"
   },
   "outputs": [
    {
     "data": {
      "image/png": "[encoded data removed]",
      "text/plain": [
       "<Figure size 432x288 with 1 Axes>"
      ]
     },
     "metadata": {
      "needs_background": "light"
     },
     "output_type": "display_data"
    }
   ],
   "source": [
    "# ## image file의 경로 설정\n",
    "# cur_dir = os.getcwd()\n",
    "# img_path = os.path.join(cur_dir, 'hand_3.png')\n",
    "# ## image file 읽기\n",
    "# cur_img = Image.open(img_path)\n",
    "# ## 28x28로 resize\n",
    "# cur_img = cur_img.resize((28, 28))\n",
    "# image = np.asarray(cur_img)\n",
    "# ## image shape 확인\n",
    "# print(image.shape)\n",
    "# ## color image일 경우 RGB 평균값으로 gray scale로 변경\n",
    "# try:\n",
    "#   image = np.mean(image, axis=2)\n",
    "# except:\n",
    "#   pass\n",
    "# ## 다시 image shape 확인\n",
    "# print(image.shape)\n",
    "## 화면에 출력\n",
    "image=train_images[1]\n",
    "plt.imshow(image, cmap='gray')\n",
    "plt.show()"
   ]
  },
  {
   "cell_type": "code",
   "execution_count": 32,
   "metadata": {
    "colab": {
     "base_uri": "https://localhost:8080/",
     "height": 265
    },
    "colab_type": "code",
    "executionInfo": {
     "elapsed": 718,
     "status": "ok",
     "timestamp": 1585035810418,
     "user": {
      "displayName": "하성호",
      "photoUrl": "https://lh3.googleusercontent.com/a-/AOh14GgGcP2YMEWbtWA_AV5fQJDoKChyppkB-OuMel_W=s64",
      "userId": "16376351765291824429"
     },
     "user_tz": -540
    },
    "id": "vZNoILmQd6Ae",
    "outputId": "376f2ece-8a08-4ac7-a2d5-b995c391baae"
   },
   "outputs": [
    {
     "data": {
      "image/png": "[encoded data removed]",
      "text/plain": [
       "<Figure size 432x288 with 1 Axes>"
      ]
     },
     "metadata": {
      "needs_background": "light"
     },
     "output_type": "display_data"
    }
   ],
   "source": [
    "## upload한 image는 흰 배경에 검은 글씨로 되어 있으므로, MNIST data와 같이 검은 배경에 흰 글씨로 변경\n",
    "image = np.abs(255-image)\n",
    "## MNIST와 동일하게 data preprocessing(255로 나눠줌)\n",
    "image = image.astype(np.float32)/255.\n",
    "## 화면에 출력하여 확인\n",
    "plt.imshow(image, cmap='gray')\n",
    "plt.show()"
   ]
  },
  {
   "cell_type": "code",
   "execution_count": 40,
   "metadata": {
    "colab": {
     "base_uri": "https://localhost:8080/",
     "height": 34
    },
    "colab_type": "code",
    "executionInfo": {
     "elapsed": 722,
     "status": "ok",
     "timestamp": 1585035815762,
     "user": {
      "displayName": "하성호",
      "photoUrl": "https://lh3.googleusercontent.com/a-/AOh14GgGcP2YMEWbtWA_AV5fQJDoKChyppkB-OuMel_W=s64",
      "userId": "16376351765291824429"
     },
     "user_tz": -540
    },
    "id": "jdbVC_O_ejyX",
    "outputId": "f398fe73-748b-4d64-f7f6-f2fbf2409f20"
   },
   "outputs": [
    {
     "name": "stdout",
     "output_type": "stream",
     "text": [
      "Model이 예측한 값은 [3] 입니다.\n",
      "0\n"
     ]
    }
   ],
   "source": [
    "## shape을 변경하여 학습된 model에 넣고 결과 확인\n",
    "image = np.reshape(image, (1, 28, 28))\n",
    "print(\"Model이 예측한 값은 {} 입니다.\".format(np.argmax(model.predict(image), -1)))\n",
    "print(np.argmax(train_labels[1]))"
   ]
  },
  {
   "cell_type": "code",
   "execution_count": 38,
   "metadata": {
    "colab": {},
    "colab_type": "code",
    "id": "ulJnh-hue46S"
   },
   "outputs": [
    {
     "data": {
      "text/plain": [
       "array([[1.28340214e-01, 1.17048374e-04, 3.38742416e-03, 8.29902411e-01,\n",
       "        1.98651105e-02, 1.58746541e-02, 8.67595736e-06, 2.20217113e-03,\n",
       "        2.90084281e-04, 1.22927668e-05]], dtype=float32)"
      ]
     },
     "execution_count": 38,
     "metadata": {},
     "output_type": "execute_result"
    }
   ],
   "source": [
    "model.predict(image)"
   ]
  },
  {
   "cell_type": "code",
   "execution_count": null,
   "metadata": {},
   "outputs": [],
   "source": []
  }
 ],
 "metadata": {
  "accelerator": "GPU",
  "colab": {
   "collapsed_sections": [],
   "name": "3_3.MNIST_Test.ipynb의 사본",
   "provenance": [
    {
     "file_id": "https://github.com/jwlee-ml/TensorFlow_Training_15th/blob/master/3_3.MNIST_Test.ipynb",
     "timestamp": 1585034528739
    }
   ]
  },
  "kernelspec": {
   "display_name": "Python 3",
   "language": "python",
   "name": "python3"
  },
  "language_info": {
   "codemirror_mode": {
    "name": "ipython",
    "version": 3
   },
   "file_extension": ".py",
   "mimetype": "text/x-python",
   "name": "python",
   "nbconvert_exporter": "python",
   "pygments_lexer": "ipython3",
   "version": "3.7.6"
  }
 },
 "nbformat": 4,
 "nbformat_minor": 4
}
